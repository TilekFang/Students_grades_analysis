{
 "cells": [
  {
   "cell_type": "code",
   "execution_count": 115,
   "id": "b9b9627e",
   "metadata": {},
   "outputs": [],
   "source": [
    "df = pd.read_excel('com_students_marks.xlsx')\n",
    "df.head(10)import pandas as pd\n",
    "import numpy\n",
    "import matplotlib.pyplot as plt\n",
    "import seaborn as sns\n",
    "\n",
    "from sklearn.metrics import r2_score\n",
    "from sklearn.model_selection import train_test_split\n",
    "from sklearn.linear_model import LinearRegression\n",
    "from sklearn.metrics import mean_squared_error\n"
   ]
  },
  {
   "cell_type": "code",
   "execution_count": 11,
   "id": "c9d44c9e",
   "metadata": {
    "scrolled": true
   },
   "outputs": [
    {
     "data": {
      "text/html": [
       "<div>\n",
       "<style scoped>\n",
       "    .dataframe tbody tr th:only-of-type {\n",
       "        vertical-align: middle;\n",
       "    }\n",
       "\n",
       "    .dataframe tbody tr th {\n",
       "        vertical-align: top;\n",
       "    }\n",
       "\n",
       "    .dataframe thead th {\n",
       "        text-align: right;\n",
       "    }\n",
       "</style>\n",
       "<table border=\"1\" class=\"dataframe\">\n",
       "  <thead>\n",
       "    <tr style=\"text-align: right;\">\n",
       "      <th></th>\n",
       "      <th>TITLE_EN</th>\n",
       "      <th>STUD_ID</th>\n",
       "      <th>DERS_KOD</th>\n",
       "      <th>YEAR</th>\n",
       "      <th>TERM</th>\n",
       "      <th>SECTION</th>\n",
       "      <th>SON</th>\n",
       "      <th>GRADING_TYPE</th>\n",
       "      <th>QIYMET_YUZ</th>\n",
       "      <th>QIYMET_HERF</th>\n",
       "      <th>KECDI</th>\n",
       "      <th>PROG_CODE</th>\n",
       "      <th>PROG_YEAR</th>\n",
       "      <th>REF_TYPE</th>\n",
       "      <th>TRANSFER_TYPE</th>\n",
       "    </tr>\n",
       "  </thead>\n",
       "  <tbody>\n",
       "    <tr>\n",
       "      <th>0</th>\n",
       "      <td>TUR 352 - Turkish Language VI (KTL)</td>\n",
       "      <td>100104001</td>\n",
       "      <td>623</td>\n",
       "      <td>2012</td>\n",
       "      <td>2</td>\n",
       "      <td>NaN</td>\n",
       "      <td>1</td>\n",
       "      <td>N</td>\n",
       "      <td>100.0</td>\n",
       "      <td>A+</td>\n",
       "      <td>1.0</td>\n",
       "      <td>10104</td>\n",
       "      <td>2016</td>\n",
       "      <td>Y</td>\n",
       "      <td>LOCAL_TRANSFER</td>\n",
       "    </tr>\n",
       "    <tr>\n",
       "      <th>1</th>\n",
       "      <td>TUR 352 - Turkish Language VI (KTL)</td>\n",
       "      <td>110103004</td>\n",
       "      <td>623</td>\n",
       "      <td>2012</td>\n",
       "      <td>2</td>\n",
       "      <td>NaN</td>\n",
       "      <td>1</td>\n",
       "      <td>N</td>\n",
       "      <td>80.0</td>\n",
       "      <td>B+</td>\n",
       "      <td>1.0</td>\n",
       "      <td>10104</td>\n",
       "      <td>2019</td>\n",
       "      <td>Y</td>\n",
       "      <td>LOCAL_TRANSFER</td>\n",
       "    </tr>\n",
       "    <tr>\n",
       "      <th>2</th>\n",
       "      <td>COM 314 - Computer Architectures</td>\n",
       "      <td>100104001</td>\n",
       "      <td>1240</td>\n",
       "      <td>2012</td>\n",
       "      <td>2</td>\n",
       "      <td>NaN</td>\n",
       "      <td>1</td>\n",
       "      <td>N</td>\n",
       "      <td>62.0</td>\n",
       "      <td>C</td>\n",
       "      <td>1.0</td>\n",
       "      <td>10104</td>\n",
       "      <td>2016</td>\n",
       "      <td>Y</td>\n",
       "      <td>LOCAL_TRANSFER</td>\n",
       "    </tr>\n",
       "    <tr>\n",
       "      <th>3</th>\n",
       "      <td>MAT 234 - Probability and Statistics II</td>\n",
       "      <td>110104001</td>\n",
       "      <td>564</td>\n",
       "      <td>2013</td>\n",
       "      <td>2</td>\n",
       "      <td>NaN</td>\n",
       "      <td>1</td>\n",
       "      <td>N</td>\n",
       "      <td>73.0</td>\n",
       "      <td>B-</td>\n",
       "      <td>1.0</td>\n",
       "      <td>10104</td>\n",
       "      <td>2016</td>\n",
       "      <td>Y</td>\n",
       "      <td>LOCAL_TRANSFER</td>\n",
       "    </tr>\n",
       "    <tr>\n",
       "      <th>4</th>\n",
       "      <td>COM 301 - Programming Languages I</td>\n",
       "      <td>110103004</td>\n",
       "      <td>594</td>\n",
       "      <td>2012</td>\n",
       "      <td>1</td>\n",
       "      <td>NaN</td>\n",
       "      <td>1</td>\n",
       "      <td>N</td>\n",
       "      <td>60.0</td>\n",
       "      <td>C</td>\n",
       "      <td>1.0</td>\n",
       "      <td>10104</td>\n",
       "      <td>2019</td>\n",
       "      <td>Y</td>\n",
       "      <td>LOCAL_TRANSFER</td>\n",
       "    </tr>\n",
       "    <tr>\n",
       "      <th>5</th>\n",
       "      <td>COM 417 - Web-Technology</td>\n",
       "      <td>90104001</td>\n",
       "      <td>643</td>\n",
       "      <td>2013</td>\n",
       "      <td>1</td>\n",
       "      <td>NaN</td>\n",
       "      <td>1</td>\n",
       "      <td>N</td>\n",
       "      <td>64.0</td>\n",
       "      <td>C</td>\n",
       "      <td>1.0</td>\n",
       "      <td>10104</td>\n",
       "      <td>2016</td>\n",
       "      <td>Y</td>\n",
       "      <td>LOCAL_TRANSFER</td>\n",
       "    </tr>\n",
       "    <tr>\n",
       "      <th>6</th>\n",
       "      <td>COM 417 - Web-Technology</td>\n",
       "      <td>100104001</td>\n",
       "      <td>643</td>\n",
       "      <td>2013</td>\n",
       "      <td>1</td>\n",
       "      <td>NaN</td>\n",
       "      <td>1</td>\n",
       "      <td>N</td>\n",
       "      <td>68.0</td>\n",
       "      <td>C+</td>\n",
       "      <td>1.0</td>\n",
       "      <td>10104</td>\n",
       "      <td>2016</td>\n",
       "      <td>Y</td>\n",
       "      <td>LOCAL_TRANSFER</td>\n",
       "    </tr>\n",
       "    <tr>\n",
       "      <th>7</th>\n",
       "      <td>COM 417 - Web-Technology</td>\n",
       "      <td>110104001</td>\n",
       "      <td>643</td>\n",
       "      <td>2013</td>\n",
       "      <td>1</td>\n",
       "      <td>NaN</td>\n",
       "      <td>1</td>\n",
       "      <td>N</td>\n",
       "      <td>80.0</td>\n",
       "      <td>B+</td>\n",
       "      <td>1.0</td>\n",
       "      <td>10104</td>\n",
       "      <td>2016</td>\n",
       "      <td>Y</td>\n",
       "      <td>LOCAL_TRANSFER</td>\n",
       "    </tr>\n",
       "    <tr>\n",
       "      <th>8</th>\n",
       "      <td>COM 417 - Web-Technology</td>\n",
       "      <td>110103004</td>\n",
       "      <td>643</td>\n",
       "      <td>2013</td>\n",
       "      <td>1</td>\n",
       "      <td>NaN</td>\n",
       "      <td>1</td>\n",
       "      <td>N</td>\n",
       "      <td>77.0</td>\n",
       "      <td>B</td>\n",
       "      <td>1.0</td>\n",
       "      <td>10104</td>\n",
       "      <td>2019</td>\n",
       "      <td>Y</td>\n",
       "      <td>LOCAL_TRANSFER</td>\n",
       "    </tr>\n",
       "    <tr>\n",
       "      <th>9</th>\n",
       "      <td>COM 417 - Human Computer Interaction (VOP)</td>\n",
       "      <td>90104001</td>\n",
       "      <td>1320</td>\n",
       "      <td>2013</td>\n",
       "      <td>2</td>\n",
       "      <td>NaN</td>\n",
       "      <td>1</td>\n",
       "      <td>N</td>\n",
       "      <td>86.0</td>\n",
       "      <td>A-</td>\n",
       "      <td>1.0</td>\n",
       "      <td>10104</td>\n",
       "      <td>2016</td>\n",
       "      <td>Y</td>\n",
       "      <td>LOCAL_TRANSFER</td>\n",
       "    </tr>\n",
       "  </tbody>\n",
       "</table>\n",
       "</div>"
      ],
      "text/plain": [
       "                                     TITLE_EN    STUD_ID DERS_KOD  YEAR  TERM  \\\n",
       "0         TUR 352 - Turkish Language VI (KTL)  100104001      623  2012     2   \n",
       "1         TUR 352 - Turkish Language VI (KTL)  110103004      623  2012     2   \n",
       "2            COM 314 - Computer Architectures  100104001     1240  2012     2   \n",
       "3     MAT 234 - Probability and Statistics II  110104001      564  2013     2   \n",
       "4           COM 301 - Programming Languages I  110103004      594  2012     1   \n",
       "5                    COM 417 - Web-Technology   90104001      643  2013     1   \n",
       "6                    COM 417 - Web-Technology  100104001      643  2013     1   \n",
       "7                    COM 417 - Web-Technology  110104001      643  2013     1   \n",
       "8                    COM 417 - Web-Technology  110103004      643  2013     1   \n",
       "9  COM 417 - Human Computer Interaction (VOP)   90104001     1320  2013     2   \n",
       "\n",
       "   SECTION  SON GRADING_TYPE  QIYMET_YUZ QIYMET_HERF  KECDI  PROG_CODE  \\\n",
       "0      NaN    1            N       100.0          A+    1.0      10104   \n",
       "1      NaN    1            N        80.0          B+    1.0      10104   \n",
       "2      NaN    1            N        62.0           C    1.0      10104   \n",
       "3      NaN    1            N        73.0          B-    1.0      10104   \n",
       "4      NaN    1            N        60.0           C    1.0      10104   \n",
       "5      NaN    1            N        64.0           C    1.0      10104   \n",
       "6      NaN    1            N        68.0          C+    1.0      10104   \n",
       "7      NaN    1            N        80.0          B+    1.0      10104   \n",
       "8      NaN    1            N        77.0           B    1.0      10104   \n",
       "9      NaN    1            N        86.0          A-    1.0      10104   \n",
       "\n",
       "   PROG_YEAR REF_TYPE   TRANSFER_TYPE  \n",
       "0       2016        Y  LOCAL_TRANSFER  \n",
       "1       2019        Y  LOCAL_TRANSFER  \n",
       "2       2016        Y  LOCAL_TRANSFER  \n",
       "3       2016        Y  LOCAL_TRANSFER  \n",
       "4       2019        Y  LOCAL_TRANSFER  \n",
       "5       2016        Y  LOCAL_TRANSFER  \n",
       "6       2016        Y  LOCAL_TRANSFER  \n",
       "7       2016        Y  LOCAL_TRANSFER  \n",
       "8       2019        Y  LOCAL_TRANSFER  \n",
       "9       2016        Y  LOCAL_TRANSFER  "
      ]
     },
     "execution_count": 11,
     "metadata": {},
     "output_type": "execute_result"
    }
   ],
   "source": [
    "df = pd.read_excel('com_students_marks.xlsx')\n",
    "df.head(10)"
   ]
  },
  {
   "cell_type": "code",
   "execution_count": 133,
   "id": "35b3f91c",
   "metadata": {},
   "outputs": [
    {
     "data": {
      "text/plain": [
       "YEAR\n",
       "2015    84.615385\n",
       "2016    87.062500\n",
       "2017    92.000000\n",
       "2018    85.563636\n",
       "Name: QIYMET_YUZ, dtype: float64"
      ]
     },
     "execution_count": 133,
     "metadata": {},
     "output_type": "execute_result"
    }
   ],
   "source": [
    "mobile_dev.groupby('YEAR')['QIYMET_YUZ'].mean()"
   ]
  },
  {
   "cell_type": "code",
   "execution_count": 293,
   "id": "f145d59d",
   "metadata": {},
   "outputs": [],
   "source": [
    "dff = pd.DataFrame({ 'Year': [2015, 2016, 2017, 2018],\n",
    "    'Grades': [84.615385, 87.062500, 92.000000, 85.563636]\n",
    "})"
   ]
  },
  {
   "cell_type": "code",
   "execution_count": 296,
   "id": "37be0083",
   "metadata": {},
   "outputs": [
    {
     "name": "stdout",
     "output_type": "stream",
     "text": [
      "   Year     Grades\n",
      "0  2019  89.255944\n",
      "1  2020  90.034169\n",
      "2  2021  90.812394\n",
      "3  2022  91.590619\n",
      "4  2023  92.368845\n",
      "5  2024  93.147070\n",
      "6  2025  93.925295\n"
     ]
    }
   ],
   "source": [
    "# The model is not suitable for several type of predictions:\n",
    "x = dff['Year'].values.reshape(-1, 1)\n",
    "\n",
    "# create an array of 'Grades'\n",
    "y = dff['Grades'].values\n",
    "\n",
    "# create a linear regression model and fit it to the data\n",
    "model = LinearRegression()\n",
    "model.fit(x, y)\n",
    "\n",
    "# create a range of values for prediction\n",
    "years = np.arange(2019, 2026).reshape(-1, 1)\n",
    "\n",
    "# use the model to make predictions\n",
    "grades = model.predict(years)\n",
    "\n",
    "# create a new dataframe with the predicted values\n",
    "predictions = pd.DataFrame({'Year': years.flatten(), 'Grades': grades})\n",
    "\n",
    "print(predictions)\n"
   ]
  },
  {
   "cell_type": "code",
   "execution_count": 297,
   "id": "0b673596",
   "metadata": {},
   "outputs": [],
   "source": [
    "# plt.plot(df['Year'], df['Grades'], 'o', label='Original Data')\n",
    "# plt.plot(years, grades, 'o', label='Predicted Data')\n",
    "# plt.xlabel('Year')\n",
    "# plt.ylabel('Grades')\n",
    "# plt.legend()\n",
    "# plt.show()"
   ]
  },
  {
   "cell_type": "markdown",
   "id": "f57c447b",
   "metadata": {},
   "source": [
    "## Dropping nontechnical subjects:"
   ]
  },
  {
   "cell_type": "code",
   "execution_count": 91,
   "id": "8c472f64",
   "metadata": {},
   "outputs": [],
   "source": [
    "df = df[~df.TITLE_EN.isin(['CS-KG - Kyrgyz Language IV (native)', 'CS 319 - Pedagogical Internship', 'MAN 121  - Computer',\n",
    "'CS 402 - Basics of Scientific reserach methods', 'CS 430 - Thesis Diploma', 'ELT 103 - Calculus-I', 'ELT 104 - Calculus-II',\n",
    "'MAN 125 - Mathematics I', 'ELT 107 - Introduction to Engineering', 'ELT 102 - Physics-II', 'ELT 101 - Physics-I',\n",
    "'MAN 126 - Mathematics II', 'CS 210 - Introduction to Entrepreneurship', 'ELL 105/18 - Spoken I', 'MAT 151/18 - Mathematics',\n",
    "'CSK107 - Discrete Mathematicks', 'Basics of Scientific Reserach Methods'])]\n"
   ]
  },
  {
   "cell_type": "code",
   "execution_count": 13,
   "id": "a14985f8",
   "metadata": {},
   "outputs": [],
   "source": [
    "df = df[~df['TITLE_EN'].isin(['TUR 352 - Turkish Language VI (KTL)','INT 111 - Kyrgyz Language and literature I (native)',\n",
    "              'INT 109 - Physical Training I','TR 101 - Turkish Language I (OTH)',\n",
    "               'ECON 202 - Macroeconomics II','CS-KG - Kyrgyz Language I (International)',\n",
    "               'CS-KG - Kyrgyz Language I (native)', 'CS-TR - Turkish Language I (KTL)', \n",
    "               'CS-LF - Life Safety','CS-PHS - Physical Culture I''CS-KG - Kyrgyz Language IV (native)',\n",
    "])]"
   ]
  },
  {
   "cell_type": "code",
   "execution_count": 14,
   "id": "36981847",
   "metadata": {},
   "outputs": [],
   "source": [
    "df = df[~df['TITLE_EN'].isin([\n",
    "     'CS-RU - Russian Language IV (native)','CS-TR - Turkish Language IV (KTL)', \n",
    "               'CS- KG - Kyrgyz Language II (foreigners)','CS -KG  - Kyrgyz Language II (native)',\n",
    "               'CS-PHS - Physical Training II', 'CS-EN - English Language II',\n",
    "               'CS-HS - History', 'CS-TR - Turkish Language OTH 2 (Prep)','CS-PHS - Physical Training III',\n",
    "               'CS-TR - Turkish Language V','CS-MT - Metrology Standard  & Certification',\n",
    "               'CS-TR - Turkish Language VI (OTH) prep','CS-EC - Ecology',\n",
    "               'CS-KG - Kyrgyz Language & Literature - 1 (non-native)',\n",
    "               'CS-KG - Kyrgyz Language & Literature - 1 (for foriegners)',\n",
    "               'ELT 111 - Philosophy', 'ELT 119 - Physical Training-I',\n",
    "               'KGZ 152 - Kyrgyz Language (continued KE-1)', 'B 110 - Writing','B 110 - Physical Training', \n",
    "               'MAT 422 - Life Safety','MAN 115  - English I', 'MAN 122 - Computer II',\n",
    "               'TUR 251 - Turkish Language III (Students from KTL)',\n",
    "               'KGZ 253 - Kyrgyz Language III (For foreigners)','HST 251 - History', 'ECO 202 - Economics',\n",
    "               'COM 506 - Industrial Internship', 'A 1-D - Conversation',\n",
    "               'INT 207 - Theory of State & Law',\n",
    "               'INT 143 - Basic Foreign Language (Academic Reading)',\n",
    "               'INT 129 - Basic Foreign Language (Turkish Language I-elective)',\n",
    "               'INT 122 - Russian Language II (native)',\n",
    "               'KG 101 - Kyrgyz Language I (native KG)',\n",
    "               'FOR 154 - Foreign Language II (German)', \n",
    "               'MAN 151/18 - Manas Studies','ELT 117 - English Language-I', \n",
    "               'ELT 118 - Physical Training-II','ELT 109 - Manas Taanuu'\n",
    "\n",
    "])]"
   ]
  },
  {
   "cell_type": "code",
   "execution_count": 15,
   "id": "023cb24a",
   "metadata": {},
   "outputs": [],
   "source": [
    "df = df[~df.TITLE_EN.isin([\n",
    "    'ELT 116 - English Language-II', 'ELT 417 - Plasma Technology',\n",
    "       'CS-RU - Russian Language I (international)',\n",
    "       'CS-TR - Turkish Language I (OTH)',\n",
    "'CS-TR - Turkish Language IV (OTH)',\n",
    "'CS-PHS - Physical Training IV',\n",
    "'CS-RU - Russian Language 2 (native)',\n",
    "'CS-TR - Turkish Language 2 (KTL)',\n",
    "'CS-KG - Kyrgyz Language III (native)',\n",
    "       'CS-TR - Turkish Language III (OTH)',\n",
    "'CS-KG - Kyrgyz Language 2 (non-native)',\n",
    "       'CS-RU - Russian Language 2 (non-native)',\n",
    "'CS-MNS - Manas Tanuu',\n",
    "'CS-TR - Turkish Language IV (OHT) prep',\n",
    "       'CS-KG - Kyrgyz Language I (non-native)',\n",
    "       'CS-TR - Turkish Language I (OTH) prep',\n",
    "       'CS-RU - Russian Language I (non-native)',\n",
    "'CS-EN - English Language 3',\n",
    "'LAT 102 - Latin language',\n",
    "       'Normal and clinical anatomy', 'Normal physiology',\n",
    "       'MAN 109 - Turkish Language I (KTL)',\n",
    "       'MAN 117 - Physical Training I', 'MAN 118 - Physical Training II',\n",
    "       'MAN 106 - Russian Language II (native)', 'GRM 152 - Grammar',\n",
    "'CS 320 - Pedagogical Internship',\n",
    "'MAN 123  - Basis of Ecology',\n",
    "       'MAN 120 - Psychology and Pedogogy',\n",
    "       'INT 141 - Basic Foreign Language (Advanced English) I',\n",
    "       'ELT 112 - Russian LanguageI-II (native)',\n",
    "       'MAN 124 - Concepts of Natural Sciences',\n",
    "       'INT 110 - Physical Training II',\n",
    "       'INT 132 - Turkish Language II (KTL)',\n",
    "       'INT 102 - History of International Relations II',\n",
    "       'ELT 115 - Turkish Language I (KTL)',\n",
    "       'ELT 128 - Psychology and Pedagogy', 'COM 102 - Terminology (COM)',\n",
    "       'B 110 A2-C - Main Course',\n",
    "'E 104 - Turkish Language', 'E 104 A1-D - Writing',\n",
    "       'RUS 153 - Russian Language (Continued) GJ', 'A 1-D - Main Course',\n",
    "       'C 110 - Conversation', 'PHT 101 - Physical Training I',\n",
    "       'B 110 - Turkish Language', 'B 111 - History',\n",
    "       'RUS 152 - Russian Language II (native)',\n",
    "       'KGZ 152 - Kyrgyz Language II (foreigners)',\n",
    "       'PHT 151/18 - Physical Training I', 'PSY 102 - Psychology',\n",
    "       'PHTR 101 - Physical training',\n",
    "       'Medical biology, genetics, parasitology', 'Physics-biophysics',\n",
    "       'Trends in molecular medicine', 'C 110 - History',\n",
    "       'CSK-03 - English Language',\n",
    "       'KGZ 152 - Kyrgyz Language (ortonku RA-1)','ELL 251 - English Language I',\n",
    "'PHT 251 - Physical Training III', 'ELL 252 - English Language II',\n",
    "       'CNV 152 - Conversation',\n",
    "'TUR 252 - Turkish Language IV (KTL)',\n",
    "'COM 203 - Metrology, Standartization',\n",
    "       'COM 402 - Project-Based Internship',\n",
    "       'CS- RU - Russian Language I (native)',\n",
    "'CS-TR - Elective( Turkish Language OTH )',\n",
    "'CS 313 - Psychology and Pedagogy',\n",
    "       'CS-RU - Russian Language III (international)',\n",
    "       'CS-TR - Turkish Language III (KTL)',\n",
    "       'CS 206 - Electrotechnics and Electronics',\n",
    "       'CS-RU - Russian Language III (native)',\n",
    "       'CS-KG - Kyrgyz Language IV (non-native)',\n",
    "       'CS-RU - Russian Language IV (Non-native)',\n",
    "       'MAN 127 - Management I', 'MAN 130 - Macroeconomics',\n",
    "       'MAN 119 - Manas Tanuu', 'MNS 552 - Manas Taanuu',\n",
    "       'CS-EN - English Language I',\n",
    "       'CS-KG - Kyrgyz Language IV (international)',\n",
    "       'CS 304 - Theory of Computation',\n",
    "       'CS-RU - Russian Language 2 (international)',\n",
    "       'CS-TR - Turkish Language 2 (OTH)',\n",
    "       'CS- KG - Kyrgyz Language III (international)',\n",
    "       'ELT 103 - Kyrgyz Language I (native)',\n",
    "'CS-KG - Kyrgyz Language III (non-native)',\n",
    "       'CS 310 - (elective) Introduction to Marketing',\n",
    "'B 110 - Reading',\n",
    "       'A 2-D - Conversation', 'INT 131 - Turkish Language I (OTH)',\n",
    "       'INT 144 - Basic Foreign Language (Academic Reading II)',\n",
    "       'INT 148 - Basic Foreign Language (Turkish Language II-elective)',\n",
    "       'B 111 - Ecology', 'GRM  - German Language',\n",
    "       'Kyrgyz language and literature',\n",
    "       'KYR 102-G2 - Kyrgyz language and kyrgyz literature',\n",
    "       'B 110 - Concepts of Natural Sciences', 'A 2-B - Turkish Language',\n",
    "       'KGZ 153 - Kyrgyz Language (Ortonku) RA-1',\n",
    "       'KGZ 153 - Kyrgyz Language ( Ortonku ) MM-2',\n",
    "'PHL 252 - Philosophy', 'RUS 252 - Russian Language IV (native)',\n",
    "       'PHT 202 - Physical Training IV',\n",
    "'LSF 551 - Life Safety', 'COM 404 - Computer Organization II',\n",
    "       'ECO 251 - Ecology', 'FOR 151 - Foreign Language (German) I',\n",
    "       'PHS 251 - Philosophy', 'GER - Deutch',\n",
    "'MAN 101 - Kyrgyz Language I (native)',\n",
    "       'ELT 113 - Russian Language-I (native)',\n",
    "'MAN 116 - English II',\n",
    "       'MAN 128 - Management II',\n",
    "'ELT 221 - Physical Training III',\n",
    "       'ELT 210 - Thermodynamics and Optics', 'ELT 122 - Life Safety',\n",
    "       'B 110 A1-C - Reading', 'A 2-E - Turkish Language',\n",
    "'C 110 - Reading', 'C 110 - Grammar', 'E 104 B1-B - Main Course',\n",
    "       'C 110 A2-C - Writing', 'FOR 152 - Foreign Language II (French)',\n",
    "       'TUR 154 - Turkish Language II (KTL)',\n",
    "       'PHT 152/18 - Physical Training II', 'ELL 103/18 - Reading I',\n",
    "       'TUR 151/18 - Turkish Language I', 'ELL314 - Video Media',\n",
    "'Bioetics', 'TUR 253 - Turkish Language III (other high schools)',\n",
    "       'RUS 251 - Russian Language III (For native students)',\n",
    "'TUR 254 - Turkish Language IV (other high schools)',\n",
    "       'COM 502 - Thesis Diploma I',\n",
    "       'CS-RU - Russian Language IV(international)',\n",
    "       'COM 233 - Manas Taanuu', 'CS-TR - Turkish Language VI (KTL)',\n",
    "       'CS 320 - Project-Based Internship',\n",
    "'CS-PHL - Philosophy', 'CS 420 - Industrial Internship',\n",
    "       'CS 403 - Theory of Computation',\n",
    "       'INT 108 - Social and Economic Statistics',\n",
    "       'INT 142 - Basic Foreign Language (Advanced English II)',\n",
    "       'INT 101 - History of International Relations I',\n",
    "\n",
    "'CS-TR - Turkish Language III (OTH) prep',\n",
    "'IE 112 - Ecology/Concept of Natural Sciences',\n",
    "       'ELT 114 - Turkish Language-II (KTL)', 'B 110 - Conversation',\n",
    "       'C 110 - Physical Training', 'B 110 - Ecology',\n",
    "'ELT 110 - Ecology',\n",
    "       'E 104 - Conversation', 'B 110 - History', 'MAN 101 - Manasology',\n",
    "       'Russian language', 'FOR 102-G1 - Foreign language',\n",
    "       'KYR 102-G3 - Kyrgyz language and kyrgyz literature',\n",
    "       'GER 153 - German Language',\n",
    "'ECON 101 - Microeconomics I',\n",
    "       'TUR 351 - Turkish Language V (Students from KTL)',\n",
    "'COM 201 - Algorithms and Programming I',\n",
    "       'KGZ 251 - Kyrgyz Language III (For native students)',\n",
    "       'PSY 252 - Psychology and Pedagogy',\n",
    "       'KGZ 252 - Kyrgyz Language IV (native)',\n",
    "       'RU 101 - Russian language(native KG)', 'ELL 106 - Spoken II',\n",
    "'MNS - Manas Taanuu','CS-EN - English Language IV', 'CS 312 - Project Management',\n",
    "       'CS320 - Project based internship',\n",
    "       'CS-RU - Russian Language III (non-native)',\n",
    "'CS-KG - Kyrgyz Language & Literature - 2',\n",
    "       'MAN 102 - Kyrgyz Language II (native)',\n",
    "       'MAN 132 - Course Work (Management)',\n",
    "       'INT 121 - Russian Language I (native)',\n",
    "       'INT 241 - Basic Foreign Language (Critical Thinking and Debate)',\n",
    "       'RUS 152 - Russian Language (continued GJ)', 'A 110 - Main Course',\n",
    "       'B 1-B - Turkish Language', 'C 110 - Writing',\n",
    "       'ELT 215 - Technical English III',\n",
    "'E 104 - Reading',\n",
    "       'MAN 301 - Marketing', 'A 2-A - Reading', 'ELL 102 - Grammar II',\n",
    "       'History of Kyrgyzstan, History of medicine',\n",
    "       'Histology, embriology, cytology',\n",
    "       'Practice - Assistant to junior medical staff',\n",
    "'FOR 151 - Foreign Language (French) I',\n",
    "'RNG 152 - Reading',\n",
    "       'KGZ 152 - Kyrgyz Language', 'MC 176 - Main Course',\n",
    "       'MAT 321 - Philosophy', 'ECO 252 - Ecology',\n",
    "       'MAN 110 - Turkish Language II (KTL)',\n",
    "       'INT 146 - Basic Foreign Language (Independent study& Directed Reading-elective)',\n",
    "       'INT 104 - Introduction to Economics II', 'INT 113 - Sociology',\n",
    "       'INT 132 - Turkish Language II (OTH)',\n",
    "'CS 419 - Industrial Internship',\n",
    "'ELT 316 - Politology', 'B 1-C - Grammar',\n",
    "       'E 104 - Physical Training',\n",
    "       'ELL 102 - Introduction to Literature I',\n",
    "'ECO 101 - Basis of Ecology', 'Chemistry',\n",
    "       'KGZ 254 - Kyrgyz Language IV (foreigners)',\n",
    "       'PHTR 102 - Physical training', 'RUS 102-G2 - Russian language',\n",
    "'ELL 101 - Grammar I',\n",
    "       'KGZ 151/18 - Kyrgyz Language and Literature I',\n",
    "'RUS 102-G3 - Russian language', 'C 110 - Turkish Language',\n",
    "       '206 COM - Turkish/Russian Language',\n",
    "       '314 COM - Turkish / Russian Language',\n",
    "       'TUR 454 - Turkish Language (Students from other high schools)',\n",
    "       'CSK307 - Information Technology', 'PRP 119 - Grammar',\n",
    "       'PRP 107 - Conversation (English)', 'C 110 A1-A - Main Course',\n",
    "'RUS 251 - Russian Language (For native students)',\n",
    "       'RUS 352 - Russian Language (For native students)',\n",
    "'Microbiology and immunology',\n",
    "'RUS 151 - Russian Language I (foreigners)',\n",
    "       'E 104 A1-D - Grammar', 'INT 103 - Introduction to Economics I',\n",
    "       'MAN 105 - Russian Language I (native)', 'SOC 101 - Sociology',\n",
    "       'A 2-E - Main Course', 'B1-C - Writing',\n",
    "       'General and clinical biochemistry',\n",
    "       'RUS 154 - Russian Language II (foreigners)',\n",
    "'Turkish Language', 'Philosophy',\n",
    "'English Language',\n",
    "'Physical training', 'Industrial Internship',\n",
    "'Pedagogical Internship',\n",
    "'Kyrgyz language and literature 2', 'Nursing care',\n",
    "'Introduction to Marketing',\n",
    "'Physical training 1',\n",
    "'Geography of Kyrgyzstan',\n",
    "'Russian Language', 'Kyrgyz language and literature 3',\n",
    "'Russian language 2',\n",
    "'Philosophy 1',\n",
    "'Project-Based Internship',\n",
    "'Physical training 2',\n",
    "'Ecology',\n",
    "'Russian language 1', 'Physical Education III',\n",
    "'KG 103 - Manas Taanuu',\n",
    "       'Thesis Diploma',\n",
    "'Life safety',\n",
    "       'Electrotechnics&Electronics', 'Human Computer Interaction',\n",
    "       'Manas Studies', 'Physical training 4', 'History of Kyrgyzstan',\n",
    "'Pathologycal physiology', 'Propedeutics of childhood diseases',\n",
    "       'Internal disease ', 'Medical genetics',\n",
    "       'Military medical training', 'Financial Mathematics I',\n",
    "       'Practice - Nursing assistant',\n",
    "       'Psychological bases of medical activity', 'Psychology',\n",
    "       'Pathologycal anatomy', 'Physical Training',\n",
    "       'Medical parasitology', 'General Surgery', 'Foreign language',\n",
    "       'Metrology Standart & Certification',\n",
    "       'Elective course - Legal aspects of medical practice',\n",
    "       'Introduction to Enterpreunership', 'Emergency conditions',\n",
    "       'Hygiene', 'Elective course - Trends in molecular medicine',\n",
    "       'Elective course - Elective course - Psychological bases of medical activity',\n",
    "       'Concepts of Natural Sciences',\n",
    "       'Practice - Care for children with somatic and surgical diseases',\n",
    "'Physical Education IV',\n",
    "       'Propaedeutics of childhood diseases', 'Reproductive system',\n",
    "'EN 101 - Business english',\n",
    "       'Foreign language, Latin language', 'Physical Еducation I',\n",
    "       'Basiс and clinical pharmacology', 'Manasology',\n",
    "'English I', 'Microeconomics',\n",
    "       'Kyrgyz Language and Literature III',\n",
    "       'Kyrgyz Language and Literature I',\n",
    "       'Legal aspects of medical practice', 'Russian Language II',\n",
    "       'English II', 'Turkish Language 2', 'Turkish Language - 2',\n",
    "       'English Language -2', 'Physical  Education II',\n",
    "'Russian Language I',\n",
    "'Kyrgyz Language and Literature IV',\n",
    "       'Introduction to Business', 'Turkish Language II (OTH)',\n",
    "       'Pediatrics 1', 'Macroeconomics', 'English Language I',\n",
    "       'Critical and Creative Thinking', 'Physical Education 1',\n",
    "'Tourism and Hospitality Management',\n",
    "       'Elementary Turkish II', 'Public health',\n",
    "'Internal disease 1',\n",
    "       'Entrepreneurship',\n",
    "'English Language II',\n",
    "'Operative surgery and topographiс anatomy', 'Dermatology',\n",
    "'Turkish Language I (OTH)',\n",
    "       'Business Communication',\n",
    "'HIV', 'Business Law', 'Coursework on Management',\n",
    "       'Elementary Turkish I', 'Life Safety',\n",
    "'Sustainable Development',\n",
    "       'Principles of Management',\n",
    "'Turkish Language I',\n",
    "'Infant surgery',\n",
    "       'Surgical disease 1', 'Pathological obstetrics',\n",
    "'Basic and clinical pharmacology', 'Intermediate Turkish I',\n",
    "       'Medicative massage ', 'English Language III',\n",
    "       'History of Kyrgyzstan Economy ',\n",
    "'Principles of Marketing', 'General surgery',\n",
    "'Financial Accounting I ',\n",
    "       'Coursework on Marketing ', 'Introduction to Finance',\n",
    "       'Coursework on HR Management', 'Second foreign language (Chinese)',\n",
    "'Enterprise Resource Planning', 'Financial Accounting II',\n",
    "       'Business Ethics and Corporate Social Responsibility',\n",
    "       'English Language IV', 'State Examination on Social Sciences',\n",
    "       'Turkish Language - 4',\n",
    "'Human Resource Management',\n",
    "'Second foreign language (German)',\n",
    "       'Second foreign language (French)', 'Intermediate Turkish II',\n",
    "       'Financial Management', 'International Business Management',\n",
    "'MAN 133 - Microeconomics',\n",
    "'Design Thinking for product solutions',\n",
    "'German',\n",
    "       'French', 'INT 112 - Kyrgyz Language II (native)', 'Chinese',\n",
    "       'Philosophy of Technologies'\n",
    "\n",
    "])]"
   ]
  },
  {
   "cell_type": "code",
   "execution_count": 97,
   "id": "168b9863",
   "metadata": {},
   "outputs": [
    {
     "data": {
      "text/plain": [
       "14900"
      ]
     },
     "execution_count": 97,
     "metadata": {},
     "output_type": "execute_result"
    }
   ],
   "source": [
    "df.TITLE_EN.duplicated().sum()"
   ]
  },
  {
   "cell_type": "markdown",
   "id": "1c0b0820",
   "metadata": {},
   "source": [
    "### Mean points of subjects for all time:"
   ]
  },
  {
   "cell_type": "code",
   "execution_count": 315,
   "id": "8702b241",
   "metadata": {},
   "outputs": [
    {
     "data": {
      "text/html": [
       "<div>\n",
       "<style scoped>\n",
       "    .dataframe tbody tr th:only-of-type {\n",
       "        vertical-align: middle;\n",
       "    }\n",
       "\n",
       "    .dataframe tbody tr th {\n",
       "        vertical-align: top;\n",
       "    }\n",
       "\n",
       "    .dataframe thead th {\n",
       "        text-align: right;\n",
       "    }\n",
       "</style>\n",
       "<table border=\"1\" class=\"dataframe\">\n",
       "  <thead>\n",
       "    <tr style=\"text-align: right;\">\n",
       "      <th></th>\n",
       "      <th>TITLE_EN</th>\n",
       "      <th>STUD_ID</th>\n",
       "      <th>DERS_KOD</th>\n",
       "      <th>YEAR</th>\n",
       "      <th>TERM</th>\n",
       "      <th>SECTION</th>\n",
       "      <th>SON</th>\n",
       "      <th>GRADING_TYPE</th>\n",
       "      <th>QIYMET_YUZ</th>\n",
       "      <th>QIYMET_HERF</th>\n",
       "      <th>KECDI</th>\n",
       "      <th>PROG_CODE</th>\n",
       "      <th>PROG_YEAR</th>\n",
       "      <th>REF_TYPE</th>\n",
       "      <th>TRANSFER_TYPE</th>\n",
       "    </tr>\n",
       "  </thead>\n",
       "  <tbody>\n",
       "    <tr>\n",
       "      <th>24141</th>\n",
       "      <td>Engineering Computer Graphics - 2</td>\n",
       "      <td>200104092</td>\n",
       "      <td>COM 120</td>\n",
       "      <td>2021</td>\n",
       "      <td>2</td>\n",
       "      <td>1.0</td>\n",
       "      <td>1</td>\n",
       "      <td>N</td>\n",
       "      <td>0.0</td>\n",
       "      <td>F</td>\n",
       "      <td>0.0</td>\n",
       "      <td>10104</td>\n",
       "      <td>2021</td>\n",
       "      <td>C</td>\n",
       "      <td>NaN</td>\n",
       "    </tr>\n",
       "    <tr>\n",
       "      <th>24140</th>\n",
       "      <td>Engineering Computer Graphics - 2</td>\n",
       "      <td>200104075</td>\n",
       "      <td>COM 120</td>\n",
       "      <td>2021</td>\n",
       "      <td>2</td>\n",
       "      <td>1.0</td>\n",
       "      <td>1</td>\n",
       "      <td>N</td>\n",
       "      <td>61.0</td>\n",
       "      <td>C</td>\n",
       "      <td>1.0</td>\n",
       "      <td>10104</td>\n",
       "      <td>2020</td>\n",
       "      <td>Y</td>\n",
       "      <td>NaN</td>\n",
       "    </tr>\n",
       "    <tr>\n",
       "      <th>24110</th>\n",
       "      <td>Engineering Computer Graphics - 2</td>\n",
       "      <td>210104072</td>\n",
       "      <td>COM 120</td>\n",
       "      <td>2021</td>\n",
       "      <td>2</td>\n",
       "      <td>1.0</td>\n",
       "      <td>1</td>\n",
       "      <td>N</td>\n",
       "      <td>100.0</td>\n",
       "      <td>A+</td>\n",
       "      <td>1.0</td>\n",
       "      <td>10104</td>\n",
       "      <td>2021</td>\n",
       "      <td>C</td>\n",
       "      <td>NaN</td>\n",
       "    </tr>\n",
       "  </tbody>\n",
       "</table>\n",
       "</div>"
      ],
      "text/plain": [
       "                                TITLE_EN    STUD_ID DERS_KOD  YEAR  TERM  \\\n",
       "24141  Engineering Computer Graphics - 2  200104092  COM 120  2021     2   \n",
       "24140  Engineering Computer Graphics - 2  200104075  COM 120  2021     2   \n",
       "24110  Engineering Computer Graphics - 2  210104072  COM 120  2021     2   \n",
       "\n",
       "       SECTION  SON GRADING_TYPE  QIYMET_YUZ QIYMET_HERF  KECDI  PROG_CODE  \\\n",
       "24141      1.0    1            N         0.0           F    0.0      10104   \n",
       "24140      1.0    1            N        61.0           C    1.0      10104   \n",
       "24110      1.0    1            N       100.0          A+    1.0      10104   \n",
       "\n",
       "       PROG_YEAR REF_TYPE TRANSFER_TYPE  \n",
       "24141       2021        C           NaN  \n",
       "24140       2020        Y           NaN  \n",
       "24110       2021        C           NaN  "
      ]
     },
     "execution_count": 315,
     "metadata": {},
     "output_type": "execute_result"
    }
   ],
   "source": [
    "# For 2022 the subject did not recieve grades\n",
    "# That is why we drop all elements from this subject where it is equal to 2022\n",
    "df = df.drop(index = df[(df.TITLE_EN =='Engineering Computer Graphics - 2') & (df.YEAR == 2022)].index)\n",
    "df[df.TITLE_EN =='Engineering Computer Graphics - 2'].tail(3)"
   ]
  },
  {
   "cell_type": "code",
   "execution_count": 312,
   "id": "3a96f757",
   "metadata": {
    "scrolled": false
   },
   "outputs": [
    {
     "data": {
      "text/plain": [
       "TITLE_EN\n",
       "COM 407 - Computer Networks and Telecommunications I            100.000000\n",
       "Mathematics II                                                  100.000000\n",
       "Mathematical Logic and Algorithm Theory                         100.000000\n",
       "Physics                                                          96.000000\n",
       "COM 411 - Computer Organization I                                95.000000\n",
       "COM 227 - Data Structures                                        90.000000\n",
       "CS 406 - Robotics                                                88.941176\n",
       "ELT 212 - Linear Algebra                                         88.000000\n",
       "Statistics I                                                     88.000000\n",
       "Discrete Mathematics II                                          86.000000\n",
       "CS 402 - Mobile App Development                                  85.848837\n",
       "CS 407 - Machine Learning                                        85.500000\n",
       "COM 454 - Object Oriented Programming II                         85.000000\n",
       "COM 431 - Object Oriented Programming I                          85.000000\n",
       "Computer Sciences II                                             84.000000\n",
       "Robotics                                                         83.285714\n",
       "CS 407 - Microprocessors and Microcomputing                      81.700000\n",
       "CS 311 - Computer Networks and Telecommunication                 81.061224\n",
       "CS 405 - Software Architecture & Design patterns                 80.909091\n",
       "CS 420 - Industrial Intership                                    79.666667\n",
       "Object Oriented Programming (Python)                             79.000000\n",
       "Computer Sciences I                                              78.000000\n",
       "Mathematics I                                                    78.000000\n",
       "CS 308 - Computer Organization & Architecture                    77.185185\n",
       "Financial Mathematics II                                         77.000000\n",
       "CS 405 - Computer Graphics                                       76.200000\n",
       "Engineering Computer Graphics - 2                                75.750000\n",
       "Machine Learning                                                 75.306122\n",
       "Statistics II                                                    75.000000\n",
       "CS 209 - Engineering Computer Graphics                           74.247706\n",
       "INT 104 - Information Technology                                 74.000000\n",
       "CS 306 - Software Engineering II                                 73.089888\n",
       "CS 409 - Network Technologies                                    72.818182\n",
       "CS-PHS - Physical Culture I                                      72.736626\n",
       "Designing in C#                                                  72.363636\n",
       "Algebra and Geometry I                                           72.278846\n",
       "ELT 216 - Physical Basics of Electronics (Solid Electronics)     72.000000\n",
       "CS 305 - Software Engineering I                                  71.209302\n",
       "ELT 108 - Engineering- Computer Graphics                         71.000000\n",
       "Information Security                                             70.683060\n",
       "CS 401 - Information Security                                    70.258065\n",
       "Software Architecture & Design patterns                          69.738462\n",
       "CS 205 - Database Systems                                        69.736486\n",
       "CS 206 - Digital Electronics                                     69.638462\n",
       "Physics I                                                        69.447917\n",
       "Linear Algebra                                                   68.015152\n",
       "CS 304 - Operating Systems                                       67.694737\n",
       "Computer Networks and Telecommunication                          67.676329\n",
       "CS 301 - Design & Analysis of Algorithms                         66.844156\n",
       "COM 152 - Calculus and Computer Practice I                       66.000000\n",
       "Name: QIYMET_YUZ, dtype: float64"
      ]
     },
     "execution_count": 312,
     "metadata": {},
     "output_type": "execute_result"
    }
   ],
   "source": [
    "dff = df[df.YEAR >= 2015]\n",
    "grouped_subjects = dff.groupby('TITLE_EN')['QIYMET_YUZ'].mean()\n",
    "grouped_subjects = grouped_subjects.sort_values(ascending= False)\n",
    "grouped_subjects.head(50)\n",
    "\n",
    "# 95 - 100\tA+\t4\tExcellent\n",
    "# 90 - 94\tA\t3.75\n",
    "# 85 - 89\tA-\t3.5\n",
    "# 80 - 84\tB+\t3.25\tGood\n",
    "# 75 - 79\tB\t3\n",
    "# 70 - 74\tB-\t2.75"
   ]
  },
  {
   "cell_type": "markdown",
   "id": "34c73315",
   "metadata": {},
   "source": [
    "### Visualization for Microprocessors and Microcomputing (from 2014 to 2016)\n"
   ]
  },
  {
   "cell_type": "code",
   "execution_count": 285,
   "id": "f8d30dc9",
   "metadata": {
    "scrolled": true
   },
   "outputs": [
    {
     "data": {
      "image/png": "[encoded data removed]",
      "text/plain": [
       "<Figure size 432x288 with 1 Axes>"
      ]
     },
     "metadata": {
      "needs_background": "light"
     },
     "output_type": "display_data"
    }
   ],
   "source": [
    "ax = sns.barplot(data = df[df.TITLE_EN == 'CS 407 - Microprocessors and Microcomputing'], \n",
    "             x = 'YEAR', y = 'QIYMET_YUZ')\n",
    "#df[df.TITLE_EN == 'CS 407 - Microprocessors and Microcomputing'].groupby('YEAR')['QIYMET_YUZ'].mean()\n",
    "\n",
    "plt.title('Microprocessors and Microcomputing', fontsize = 14)\n",
    "plt.xlabel('Year', fontsize = 12)\n",
    "plt.ylabel('Grade', fontsize = 12)\n",
    "ax.grid(True)"
   ]
  },
  {
   "cell_type": "markdown",
   "id": "52107143",
   "metadata": {},
   "source": [
    "### Visualization for Computer Networks and Telecommunication (from 2014 to 2018)"
   ]
  },
  {
   "cell_type": "code",
   "execution_count": 286,
   "id": "6af3fc7e",
   "metadata": {},
   "outputs": [
    {
     "data": {
      "image/png": "[encoded data removed]",
      "text/plain": [
       "<Figure size 432x288 with 1 Axes>"
      ]
     },
     "metadata": {
      "needs_background": "light"
     },
     "output_type": "display_data"
    }
   ],
   "source": [
    "# sns.lineplot(data = df[df.TITLE_EN == 'CS 311 - Computer Networks and Telecommunication'], \n",
    "#              x = 'YEAR', y = 'QIYMET_YUZ')\n",
    "\n",
    "ax = sns.barplot(data = df[df.TITLE_EN == 'CS 311 - Computer Networks and Telecommunication'], \n",
    "             x = 'YEAR', y = 'QIYMET_YUZ')\n",
    "df[df.TITLE_EN == 'CS 311 - Computer Networks and Telecommunication'].groupby('YEAR')['QIYMET_YUZ'].mean()\n",
    "plt.title('Computer Networks and Telecommunication', fontsize = 14)\n",
    "plt.xlabel('Year', fontsize = 12)\n",
    "plt.ylabel('Grade', fontsize = 12)\n",
    "ax.grid(True)\n",
    "\n"
   ]
  },
  {
   "cell_type": "markdown",
   "id": "75b44c85",
   "metadata": {},
   "source": [
    "### CS 308 - Computer Organization & Architecture (from 2014 to 2018)"
   ]
  },
  {
   "cell_type": "code",
   "execution_count": 242,
   "id": "ff97c9ab",
   "metadata": {},
   "outputs": [
    {
     "data": {
      "image/png": "[encoded data removed]",
      "text/plain": [
       "<Figure size 432x288 with 1 Axes>"
      ]
     },
     "metadata": {
      "needs_background": "light"
     },
     "output_type": "display_data"
    },
    {
     "data": {
      "text/plain": [
       "<Figure size 720x576 with 0 Axes>"
      ]
     },
     "metadata": {},
     "output_type": "display_data"
    }
   ],
   "source": [
    "ax = sns.barplot(data = df[df.TITLE_EN == 'CS 308 - Computer Organization & Architecture'], \n",
    "             x = 'YEAR', y = 'QIYMET_YUZ')\n",
    "plt.title('Software Architecture & Design patterns', fontsize = 14)\n",
    "plt.xlabel('Year', fontsize = 12)\n",
    "plt.ylabel('Grade', fontsize = 12)\n",
    "plt.figure(figsize=(10, 8))\n",
    "ax.grid(True)"
   ]
  },
  {
   "cell_type": "markdown",
   "id": "4e083ae7",
   "metadata": {},
   "source": [
    "### CS 405 - Computer Graphics (2013 and 2016)"
   ]
  },
  {
   "cell_type": "code",
   "execution_count": 243,
   "id": "db95388f",
   "metadata": {
    "scrolled": true
   },
   "outputs": [
    {
     "data": {
      "image/png": "[encoded data removed]",
      "text/plain": [
       "<Figure size 432x288 with 1 Axes>"
      ]
     },
     "metadata": {
      "needs_background": "light"
     },
     "output_type": "display_data"
    },
    {
     "data": {
      "text/plain": [
       "<Figure size 720x576 with 0 Axes>"
      ]
     },
     "metadata": {},
     "output_type": "display_data"
    }
   ],
   "source": [
    "ax = sns.barplot(data = df[df.TITLE_EN == 'CS 405 - Computer Graphics'], \n",
    "             x = 'YEAR', y = 'QIYMET_YUZ')\n",
    "plt.title('Computer Graphics', fontsize = 14)\n",
    "plt.xlabel('Year', fontsize = 12)\n",
    "plt.ylabel('Grade', fontsize = 12)\n",
    "plt.figure(figsize=(10, 8))\n",
    "ax.grid(True)"
   ]
  },
  {
   "cell_type": "markdown",
   "id": "ba691a23",
   "metadata": {},
   "source": [
    "### Machine Learning (from 2021)"
   ]
  },
  {
   "cell_type": "code",
   "execution_count": 244,
   "id": "14f50506",
   "metadata": {
    "scrolled": true
   },
   "outputs": [
    {
     "data": {
      "image/png": "[encoded data removed]",
      "text/plain": [
       "<Figure size 432x288 with 1 Axes>"
      ]
     },
     "metadata": {
      "needs_background": "light"
     },
     "output_type": "display_data"
    },
    {
     "data": {
      "text/plain": [
       "<Figure size 720x576 with 0 Axes>"
      ]
     },
     "metadata": {},
     "output_type": "display_data"
    }
   ],
   "source": [
    "ax = sns.barplot(data = df[df.TITLE_EN == 'Machine Learning'], \n",
    "             x = 'YEAR', y = 'QIYMET_YUZ')\n",
    "plt.title('Machine Learning', fontsize = 14)\n",
    "plt.xlabel('Year', fontsize = 12)\n",
    "plt.ylabel('Grade', fontsize = 12)\n",
    "plt.figure(figsize=(10, 8))\n",
    "ax.grid(True)"
   ]
  },
  {
   "cell_type": "markdown",
   "id": "69ea190f",
   "metadata": {},
   "source": [
    "### CS 209 - Engineering Computer Graphics (from 2014 to 2018)"
   ]
  },
  {
   "cell_type": "code",
   "execution_count": 246,
   "id": "7f2e97ee",
   "metadata": {
    "scrolled": true
   },
   "outputs": [
    {
     "data": {
      "image/png": "[encoded data removed]",
      "text/plain": [
       "<Figure size 432x288 with 1 Axes>"
      ]
     },
     "metadata": {
      "needs_background": "light"
     },
     "output_type": "display_data"
    },
    {
     "data": {
      "text/plain": [
       "<Figure size 720x576 with 0 Axes>"
      ]
     },
     "metadata": {},
     "output_type": "display_data"
    }
   ],
   "source": [
    "ax = sns.barplot(data = df[df.TITLE_EN == 'CS 209 - Engineering Computer Graphics'], \n",
    "             x = 'YEAR', y = 'QIYMET_YUZ')\n",
    "plt.title('Engineering Computer Graphics', fontsize = 14)\n",
    "plt.xlabel('Year', fontsize = 12)\n",
    "plt.ylabel('Grade', fontsize = 12)\n",
    "plt.figure(figsize=(10, 8))\n",
    "ax.grid(True)"
   ]
  },
  {
   "cell_type": "markdown",
   "id": "83ecd213",
   "metadata": {},
   "source": [
    "### CS 306 - Software Engineering II (from 2015 to 2018)"
   ]
  },
  {
   "cell_type": "code",
   "execution_count": 247,
   "id": "30571c6f",
   "metadata": {
    "scrolled": true
   },
   "outputs": [
    {
     "data": {
      "image/png": "[encoded data removed]",
      "text/plain": [
       "<Figure size 432x288 with 1 Axes>"
      ]
     },
     "metadata": {
      "needs_background": "light"
     },
     "output_type": "display_data"
    },
    {
     "data": {
      "text/plain": [
       "<Figure size 720x576 with 0 Axes>"
      ]
     },
     "metadata": {},
     "output_type": "display_data"
    }
   ],
   "source": [
    "ax = sns.barplot(data = df[df.TITLE_EN == 'CS 306 - Software Engineering II'], \n",
    "             x = 'YEAR', y = 'QIYMET_YUZ')\n",
    "plt.title('Software Engineering II', fontsize = 14)\n",
    "plt.xlabel('Year', fontsize = 12)\n",
    "plt.ylabel('Grade', fontsize = 12)\n",
    "plt.figure(figsize=(10, 8))\n",
    "ax.grid(True)"
   ]
  },
  {
   "cell_type": "markdown",
   "id": "8c9f2add",
   "metadata": {},
   "source": [
    "### CS 409 - Network Technologies (2015, 2016)"
   ]
  },
  {
   "cell_type": "code",
   "execution_count": 249,
   "id": "eb215372",
   "metadata": {
    "scrolled": true
   },
   "outputs": [
    {
     "data": {
      "image/png": "[encoded data removed]",
      "text/plain": [
       "<Figure size 432x288 with 1 Axes>"
      ]
     },
     "metadata": {
      "needs_background": "light"
     },
     "output_type": "display_data"
    },
    {
     "data": {
      "text/plain": [
       "<Figure size 720x576 with 0 Axes>"
      ]
     },
     "metadata": {},
     "output_type": "display_data"
    }
   ],
   "source": [
    "ax = sns.barplot(data = df[df.TITLE_EN == 'CS 409 - Network Technologies'], \n",
    "             x = 'YEAR', y = 'QIYMET_YUZ')\n",
    "plt.title('Network Technologies', fontsize = 14)\n",
    "plt.xlabel('Year', fontsize = 12)\n",
    "plt.ylabel('Grade', fontsize = 12)\n",
    "plt.figure(figsize=(10, 8))\n",
    "ax.grid(True)"
   ]
  },
  {
   "cell_type": "code",
   "execution_count": 311,
   "id": "345c4716",
   "metadata": {
    "scrolled": true
   },
   "outputs": [
    {
     "data": {
      "text/html": [
       "<div>\n",
       "<style scoped>\n",
       "    .dataframe tbody tr th:only-of-type {\n",
       "        vertical-align: middle;\n",
       "    }\n",
       "\n",
       "    .dataframe tbody tr th {\n",
       "        vertical-align: top;\n",
       "    }\n",
       "\n",
       "    .dataframe thead th {\n",
       "        text-align: right;\n",
       "    }\n",
       "</style>\n",
       "<table border=\"1\" class=\"dataframe\">\n",
       "  <thead>\n",
       "    <tr style=\"text-align: right;\">\n",
       "      <th></th>\n",
       "      <th>TITLE_EN</th>\n",
       "      <th>STUD_ID</th>\n",
       "      <th>DERS_KOD</th>\n",
       "      <th>YEAR</th>\n",
       "      <th>TERM</th>\n",
       "      <th>SECTION</th>\n",
       "      <th>SON</th>\n",
       "      <th>GRADING_TYPE</th>\n",
       "      <th>QIYMET_YUZ</th>\n",
       "      <th>QIYMET_HERF</th>\n",
       "      <th>KECDI</th>\n",
       "      <th>PROG_CODE</th>\n",
       "      <th>PROG_YEAR</th>\n",
       "      <th>REF_TYPE</th>\n",
       "      <th>TRANSFER_TYPE</th>\n",
       "    </tr>\n",
       "  </thead>\n",
       "  <tbody>\n",
       "    <tr>\n",
       "      <th>24166</th>\n",
       "      <td>Engineering Computer Graphics - 2</td>\n",
       "      <td>210104092</td>\n",
       "      <td>COM 120</td>\n",
       "      <td>2021</td>\n",
       "      <td>2</td>\n",
       "      <td>1.0</td>\n",
       "      <td>1</td>\n",
       "      <td>N</td>\n",
       "      <td>99.0</td>\n",
       "      <td>A+</td>\n",
       "      <td>1.0</td>\n",
       "      <td>10104</td>\n",
       "      <td>2021</td>\n",
       "      <td>C</td>\n",
       "      <td>NaN</td>\n",
       "    </tr>\n",
       "    <tr>\n",
       "      <th>24164</th>\n",
       "      <td>Engineering Computer Graphics - 2</td>\n",
       "      <td>210104101</td>\n",
       "      <td>COM 120</td>\n",
       "      <td>2021</td>\n",
       "      <td>2</td>\n",
       "      <td>1.0</td>\n",
       "      <td>1</td>\n",
       "      <td>N</td>\n",
       "      <td>0.0</td>\n",
       "      <td>F</td>\n",
       "      <td>0.0</td>\n",
       "      <td>10104</td>\n",
       "      <td>2021</td>\n",
       "      <td>C</td>\n",
       "      <td>NaN</td>\n",
       "    </tr>\n",
       "    <tr>\n",
       "      <th>24173</th>\n",
       "      <td>Engineering Computer Graphics - 2</td>\n",
       "      <td>180104004</td>\n",
       "      <td>COM 120</td>\n",
       "      <td>2021</td>\n",
       "      <td>2</td>\n",
       "      <td>1.0</td>\n",
       "      <td>1</td>\n",
       "      <td>N</td>\n",
       "      <td>50.0</td>\n",
       "      <td>D</td>\n",
       "      <td>1.0</td>\n",
       "      <td>10104</td>\n",
       "      <td>2018</td>\n",
       "      <td>Y</td>\n",
       "      <td>NaN</td>\n",
       "    </tr>\n",
       "    <tr>\n",
       "      <th>24168</th>\n",
       "      <td>Engineering Computer Graphics - 2</td>\n",
       "      <td>180104005</td>\n",
       "      <td>COM 120</td>\n",
       "      <td>2021</td>\n",
       "      <td>2</td>\n",
       "      <td>1.0</td>\n",
       "      <td>1</td>\n",
       "      <td>N</td>\n",
       "      <td>0.0</td>\n",
       "      <td>F</td>\n",
       "      <td>0.0</td>\n",
       "      <td>10104</td>\n",
       "      <td>2018</td>\n",
       "      <td>Y</td>\n",
       "      <td>NaN</td>\n",
       "    </tr>\n",
       "    <tr>\n",
       "      <th>24170</th>\n",
       "      <td>Engineering Computer Graphics - 2</td>\n",
       "      <td>200104084</td>\n",
       "      <td>COM 120</td>\n",
       "      <td>2021</td>\n",
       "      <td>2</td>\n",
       "      <td>1.0</td>\n",
       "      <td>1</td>\n",
       "      <td>N</td>\n",
       "      <td>89.0</td>\n",
       "      <td>A-</td>\n",
       "      <td>1.0</td>\n",
       "      <td>10104</td>\n",
       "      <td>2021</td>\n",
       "      <td>C</td>\n",
       "      <td>NaN</td>\n",
       "    </tr>\n",
       "    <tr>\n",
       "      <th>...</th>\n",
       "      <td>...</td>\n",
       "      <td>...</td>\n",
       "      <td>...</td>\n",
       "      <td>...</td>\n",
       "      <td>...</td>\n",
       "      <td>...</td>\n",
       "      <td>...</td>\n",
       "      <td>...</td>\n",
       "      <td>...</td>\n",
       "      <td>...</td>\n",
       "      <td>...</td>\n",
       "      <td>...</td>\n",
       "      <td>...</td>\n",
       "      <td>...</td>\n",
       "      <td>...</td>\n",
       "    </tr>\n",
       "    <tr>\n",
       "      <th>24108</th>\n",
       "      <td>Engineering Computer Graphics - 2</td>\n",
       "      <td>210104065</td>\n",
       "      <td>COM 120</td>\n",
       "      <td>2021</td>\n",
       "      <td>2</td>\n",
       "      <td>1.0</td>\n",
       "      <td>1</td>\n",
       "      <td>N</td>\n",
       "      <td>76.0</td>\n",
       "      <td>B</td>\n",
       "      <td>1.0</td>\n",
       "      <td>10104</td>\n",
       "      <td>2021</td>\n",
       "      <td>C</td>\n",
       "      <td>NaN</td>\n",
       "    </tr>\n",
       "    <tr>\n",
       "      <th>24142</th>\n",
       "      <td>Engineering Computer Graphics - 2</td>\n",
       "      <td>200104101</td>\n",
       "      <td>COM 120</td>\n",
       "      <td>2021</td>\n",
       "      <td>2</td>\n",
       "      <td>1.0</td>\n",
       "      <td>1</td>\n",
       "      <td>N</td>\n",
       "      <td>94.0</td>\n",
       "      <td>A</td>\n",
       "      <td>1.0</td>\n",
       "      <td>10104</td>\n",
       "      <td>2021</td>\n",
       "      <td>C</td>\n",
       "      <td>NaN</td>\n",
       "    </tr>\n",
       "    <tr>\n",
       "      <th>24141</th>\n",
       "      <td>Engineering Computer Graphics - 2</td>\n",
       "      <td>200104092</td>\n",
       "      <td>COM 120</td>\n",
       "      <td>2021</td>\n",
       "      <td>2</td>\n",
       "      <td>1.0</td>\n",
       "      <td>1</td>\n",
       "      <td>N</td>\n",
       "      <td>0.0</td>\n",
       "      <td>F</td>\n",
       "      <td>0.0</td>\n",
       "      <td>10104</td>\n",
       "      <td>2021</td>\n",
       "      <td>C</td>\n",
       "      <td>NaN</td>\n",
       "    </tr>\n",
       "    <tr>\n",
       "      <th>24140</th>\n",
       "      <td>Engineering Computer Graphics - 2</td>\n",
       "      <td>200104075</td>\n",
       "      <td>COM 120</td>\n",
       "      <td>2021</td>\n",
       "      <td>2</td>\n",
       "      <td>1.0</td>\n",
       "      <td>1</td>\n",
       "      <td>N</td>\n",
       "      <td>61.0</td>\n",
       "      <td>C</td>\n",
       "      <td>1.0</td>\n",
       "      <td>10104</td>\n",
       "      <td>2020</td>\n",
       "      <td>Y</td>\n",
       "      <td>NaN</td>\n",
       "    </tr>\n",
       "    <tr>\n",
       "      <th>24110</th>\n",
       "      <td>Engineering Computer Graphics - 2</td>\n",
       "      <td>210104072</td>\n",
       "      <td>COM 120</td>\n",
       "      <td>2021</td>\n",
       "      <td>2</td>\n",
       "      <td>1.0</td>\n",
       "      <td>1</td>\n",
       "      <td>N</td>\n",
       "      <td>100.0</td>\n",
       "      <td>A+</td>\n",
       "      <td>1.0</td>\n",
       "      <td>10104</td>\n",
       "      <td>2021</td>\n",
       "      <td>C</td>\n",
       "      <td>NaN</td>\n",
       "    </tr>\n",
       "  </tbody>\n",
       "</table>\n",
       "<p>108 rows × 15 columns</p>\n",
       "</div>"
      ],
      "text/plain": [
       "                                TITLE_EN    STUD_ID DERS_KOD  YEAR  TERM  \\\n",
       "24166  Engineering Computer Graphics - 2  210104092  COM 120  2021     2   \n",
       "24164  Engineering Computer Graphics - 2  210104101  COM 120  2021     2   \n",
       "24173  Engineering Computer Graphics - 2  180104004  COM 120  2021     2   \n",
       "24168  Engineering Computer Graphics - 2  180104005  COM 120  2021     2   \n",
       "24170  Engineering Computer Graphics - 2  200104084  COM 120  2021     2   \n",
       "...                                  ...        ...      ...   ...   ...   \n",
       "24108  Engineering Computer Graphics - 2  210104065  COM 120  2021     2   \n",
       "24142  Engineering Computer Graphics - 2  200104101  COM 120  2021     2   \n",
       "24141  Engineering Computer Graphics - 2  200104092  COM 120  2021     2   \n",
       "24140  Engineering Computer Graphics - 2  200104075  COM 120  2021     2   \n",
       "24110  Engineering Computer Graphics - 2  210104072  COM 120  2021     2   \n",
       "\n",
       "       SECTION  SON GRADING_TYPE  QIYMET_YUZ QIYMET_HERF  KECDI  PROG_CODE  \\\n",
       "24166      1.0    1            N        99.0          A+    1.0      10104   \n",
       "24164      1.0    1            N         0.0           F    0.0      10104   \n",
       "24173      1.0    1            N        50.0           D    1.0      10104   \n",
       "24168      1.0    1            N         0.0           F    0.0      10104   \n",
       "24170      1.0    1            N        89.0          A-    1.0      10104   \n",
       "...        ...  ...          ...         ...         ...    ...        ...   \n",
       "24108      1.0    1            N        76.0           B    1.0      10104   \n",
       "24142      1.0    1            N        94.0           A    1.0      10104   \n",
       "24141      1.0    1            N         0.0           F    0.0      10104   \n",
       "24140      1.0    1            N        61.0           C    1.0      10104   \n",
       "24110      1.0    1            N       100.0          A+    1.0      10104   \n",
       "\n",
       "       PROG_YEAR REF_TYPE TRANSFER_TYPE  \n",
       "24166       2021        C           NaN  \n",
       "24164       2021        C           NaN  \n",
       "24173       2018        Y           NaN  \n",
       "24168       2018        Y           NaN  \n",
       "24170       2021        C           NaN  \n",
       "...          ...      ...           ...  \n",
       "24108       2021        C           NaN  \n",
       "24142       2021        C           NaN  \n",
       "24141       2021        C           NaN  \n",
       "24140       2020        Y           NaN  \n",
       "24110       2021        C           NaN  \n",
       "\n",
       "[108 rows x 15 columns]"
      ]
     },
     "execution_count": 311,
     "metadata": {},
     "output_type": "execute_result"
    }
   ],
   "source": [
    "df = df.drop(index = df[(df.TITLE_EN =='Engineering Computer Graphics - 2') & (df.YEAR == 2022)].index)\n",
    "df[df.TITLE_EN =='Engineering Computer Graphics - 2']"
   ]
  },
  {
   "cell_type": "markdown",
   "id": "a757e8dc",
   "metadata": {},
   "source": [
    "### Engineering Computer Graphics - 2 (2021)"
   ]
  },
  {
   "cell_type": "code",
   "execution_count": 313,
   "id": "458a3222",
   "metadata": {
    "scrolled": true
   },
   "outputs": [
    {
     "data": {
      "image/png": "[encoded data removed]",
      "text/plain": [
       "<Figure size 432x288 with 1 Axes>"
      ]
     },
     "metadata": {
      "needs_background": "light"
     },
     "output_type": "display_data"
    },
    {
     "data": {
      "text/plain": [
       "<Figure size 720x576 with 0 Axes>"
      ]
     },
     "metadata": {},
     "output_type": "display_data"
    }
   ],
   "source": [
    "\n",
    "ax = sns.barplot(data = df[df.TITLE_EN =='Engineering Computer Graphics - 2'], \n",
    "             x = 'YEAR', y = 'QIYMET_YUZ')\n",
    "plt.title('Engineering Computer Graphics - 2', fontsize = 14)\n",
    "plt.xlabel('Year', fontsize = 12)\n",
    "plt.ylabel('Grade', fontsize = 12)\n",
    "plt.figure(figsize=(10, 8))\n",
    "ax.grid(True)"
   ]
  },
  {
   "cell_type": "markdown",
   "id": "95ea5e48",
   "metadata": {},
   "source": [
    "### Designing in C# (2022)"
   ]
  },
  {
   "cell_type": "code",
   "execution_count": 256,
   "id": "6834a5f4",
   "metadata": {
    "scrolled": true
   },
   "outputs": [
    {
     "data": {
      "image/png": "[encoded data removed]",
      "text/plain": [
       "<Figure size 432x288 with 1 Axes>"
      ]
     },
     "metadata": {
      "needs_background": "light"
     },
     "output_type": "display_data"
    },
    {
     "data": {
      "text/plain": [
       "<Figure size 720x576 with 0 Axes>"
      ]
     },
     "metadata": {},
     "output_type": "display_data"
    }
   ],
   "source": [
    "ax = sns.barplot(data = df[df.TITLE_EN == 'Designing in C# '], \n",
    "             x = 'YEAR', y = 'QIYMET_YUZ')\n",
    "plt.title('Designing in C#', fontsize = 14)\n",
    "plt.xlabel('Year', fontsize = 12)\n",
    "plt.ylabel('Grade', fontsize = 12)\n",
    "plt.figure(figsize=(10, 8))\n",
    "ax.grid(True)"
   ]
  },
  {
   "cell_type": "markdown",
   "id": "cafd3421",
   "metadata": {},
   "source": [
    "### CS 305 - Software Engineering I (from 2014 to 2018)"
   ]
  },
  {
   "cell_type": "code",
   "execution_count": 258,
   "id": "88816332",
   "metadata": {
    "scrolled": false
   },
   "outputs": [
    {
     "data": {
      "image/png": "[encoded data removed]",
      "text/plain": [
       "<Figure size 432x288 with 1 Axes>"
      ]
     },
     "metadata": {
      "needs_background": "light"
     },
     "output_type": "display_data"
    },
    {
     "data": {
      "text/plain": [
       "<Figure size 720x576 with 0 Axes>"
      ]
     },
     "metadata": {},
     "output_type": "display_data"
    }
   ],
   "source": [
    "ax = sns.barplot(data = df[df.TITLE_EN == 'CS 305 - Software Engineering I'], \n",
    "             x = 'YEAR', y = 'QIYMET_YUZ')\n",
    "plt.title('Software Engineering I', fontsize = 14)\n",
    "plt.xlabel('Year', fontsize = 12)\n",
    "plt.ylabel('Grade', fontsize = 12)\n",
    "plt.figure(figsize=(10, 8))\n",
    "ax.grid(True)"
   ]
  },
  {
   "cell_type": "markdown",
   "id": "4a05e9dd",
   "metadata": {},
   "source": [
    "### Information Security (from 2019 to 2022)"
   ]
  },
  {
   "cell_type": "code",
   "execution_count": 259,
   "id": "1c3e9c9c",
   "metadata": {
    "scrolled": false
   },
   "outputs": [
    {
     "data": {
      "image/png": "[encoded data removed]",
      "text/plain": [
       "<Figure size 432x288 with 1 Axes>"
      ]
     },
     "metadata": {
      "needs_background": "light"
     },
     "output_type": "display_data"
    },
    {
     "data": {
      "text/plain": [
       "<Figure size 720x576 with 0 Axes>"
      ]
     },
     "metadata": {},
     "output_type": "display_data"
    }
   ],
   "source": [
    "ax = sns.barplot(data = df[df.TITLE_EN == 'Information Security'], \n",
    "             x = 'YEAR', y = 'QIYMET_YUZ')\n",
    "plt.title('Information Security', fontsize = 14)\n",
    "plt.xlabel('Year', fontsize = 12)\n",
    "plt.ylabel('Grade', fontsize = 12)\n",
    "plt.figure(figsize=(10, 8))\n",
    "ax.grid(True)"
   ]
  },
  {
   "cell_type": "code",
   "execution_count": 270,
   "id": "898c609c",
   "metadata": {
    "collapsed": true
   },
   "outputs": [
    {
     "data": {
      "text/plain": [
       "array(['COM 205 - Mathematical Logic and Algorithm Theory',\n",
       "       'MAT 254 - Discrete Structures', 'PHS 201 - Physics I',\n",
       "       'MAT 253 - Numerical Analysis', 'MAT 231 - Calculus I',\n",
       "       'MAT 203 - Linear Algebra I', 'PHS 202 - Physics II',\n",
       "       'MAT 232 - Calculus II', 'COM 301 - Programming Languages I',\n",
       "       'COM 202 - Algorithms and Programming II',\n",
       "       'MAT 233 - Probability and Statistics I',\n",
       "       'MAT 234 - Probability and Statistics II',\n",
       "       'COM 302 - Programming Languages II',\n",
       "       'ELT 331 - Electric Circuits and Electronics',\n",
       "       'COM 303 - Computer Graphics', 'CS-PHS - Physical Culture I',\n",
       "       'COM 118 - Algorithms and Programming II',\n",
       "       'COM 312 - Assembler Programming',\n",
       "       'COM 310 - Software Engineering I', 'CS 106 - Physics II',\n",
       "       'COM 316 - Functional and Log. Programming',\n",
       "       'CS 108 - Math. Logic and Algorithm Theory',\n",
       "       'COM 306 - Microprocessors', 'CS 104 - Calculus II',\n",
       "       'COM 303 - Data Structures I', 'COM 314 - Computer Architectures',\n",
       "       'COM 117 - Algorithms and Programming I', 'CS 103 - Calculus I',\n",
       "       'CS 105 - Physics I', 'COM 304 - Data Structures II',\n",
       "       'COM 407 - Software Engineering II',\n",
       "       'COM 301 - Engineering Computer Graphics',\n",
       "       'COM 407 - Computer Networks and Telecommunications I',\n",
       "       'COM 411 - Computer Organization I', 'COM 401 - Robotics',\n",
       "       'COM 404 - Network Technologies I',\n",
       "       'COM 402 - Control Theory (Automation Theory )',\n",
       "       'CS 101 - Programming Languages I', 'CS 206 - Digital Electronics',\n",
       "       'COM 409 - Operating Systems', 'COM 228 - Programming Language II',\n",
       "       'CS 312 - Differential Equations', 'COM 501 - Project Management',\n",
       "       'COM 514 - Network Technologies III', 'INT 107 - Mathematics',\n",
       "       'COM 409 - Database Management',\n",
       "       'MAT 305 - Differential Equations', 'COM 417 - Web-Technology',\n",
       "       'COM 416 - Artificial Intelligence', 'CS 405 - Computer Graphics',\n",
       "       'MAT 304 - Computation Theory', 'COM 225 - Discrete Structure',\n",
       "       'CS 208 - Linear Algebra',\n",
       "       'COM 417 - Human Computer Interaction (VOP)',\n",
       "       'COM 227 - Data Structures',\n",
       "       'COM 505 - Information Security (Cryptology)',\n",
       "       'CS 102 - Programming Language II', 'COM 405 - OOP',\n",
       "       'INT 104 - Information Technology',\n",
       "       'COM 410 - Computer Networks and Telecommunications II',\n",
       "       'INT 105 - Computer Technology',\n",
       "       'COM 513 - Network Technologies II',\n",
       "       'CS 209 - Engineering Computer Graphics', 'CS-310 - Art',\n",
       "       'CS 203 - Introduction to Web Technologies',\n",
       "       'CS 204 - Web Programming',\n",
       "       'CS 407 - Microprocessors and Microcomputing',\n",
       "       'CS 207 - Discrete Mathematics', 'CS 203 - Web Technologies',\n",
       "       'CS 308 - Computer Organization & Architecture',\n",
       "       'CS 205 - Descrete Mathematics',\n",
       "       'CS 311 - Computer Networks and Telecommunication',\n",
       "       'CS 207 - Scientific Programming',\n",
       "       'CS 305 - Software Engineering I', 'CS 205 - Database Systems',\n",
       "       'CS 309 - Probability and Statistics', 'CS 202 - Data Structures',\n",
       "       'COM 418 - Theory of Programming Languages&Trans.Meth.',\n",
       "       'CS 403 - Human Computer Interaction',\n",
       "       'CS 201 - Object Oriented Programming (OOP)',\n",
       "       'CS 401 - Artificial Intelligence',\n",
       "       'CS 100 - Introduction to Engineering and Computer Science',\n",
       "       'CS 302 - Artificial Intelligence', 'CS 402 - Cryptography',\n",
       "       'COM 431 - Object Oriented Programming I',\n",
       "       'CS 402 - Mobile App Development', 'CS 304 - Operating Systems',\n",
       "       'ELT 105 - Computer Programming Language-I',\n",
       "       'CS 409 - Network Technologies',\n",
       "       'CS 301 - Design & Analysis of Algorithms',\n",
       "       'COM 454 - Object Oriented Programming II', 'CS 404 - Robotics',\n",
       "       'CS 401 - Information Security', 'COM 101 - Computer I',\n",
       "       'CS 420 - Industrial Intership', 'MAT 101 - Calculus I',\n",
       "       'CS 306 - Software Engineering II',\n",
       "       'CS 310 - Probability and Statistics - 2', 'CS 406 - Robotics',\n",
       "       'CS 405 - Software Architecture & Design patterns',\n",
       "       'ELT 313 - Data Conversion Tech. (Signals&Systems)',\n",
       "       'CS 312 - (elective) Number Theory',\n",
       "       'ELT 108 - Engineering- Computer Graphics',\n",
       "       'ELT 219 - Elecrotechnics I (Electric Circuits)',\n",
       "       'CS 108 - Engineering Computer Graphics',\n",
       "       'ELT 212 - Linear Algebra',\n",
       "       'ELT 216 - Physical Basics of Electronics (Solid Electronics)',\n",
       "       'COM 152 - Calculus and Computer Practice I',\n",
       "       'ELT 304 - Electronic Circuits-I',\n",
       "       'ELT 307 - Database Management Systems',\n",
       "       'ELT 303 - Electromechanical Energy Conversion I',\n",
       "       '409 COM - Programming Languages', 'Operating Systems',\n",
       "       'COM 310 - Computer Graphics and CAD', '302 COM - Physics',\n",
       "       'ELT 213 - Programming Language',\n",
       "       'ELT 106 - Computer Programming Language-II',\n",
       "       'ELT 306 - Microelectronics (Digital Electronics) I',\n",
       "       'ELT 210 - Differential Equations',\n",
       "       'CS 312 - (elective) Differential Equations',\n",
       "       'Computer Organization & Architecture',\n",
       "       'Computer Networks and Telecommunication',\n",
       "       'Design & Analysis of Algorithms', 'CS 208-1 - Linear Algebra',\n",
       "       'Introduction to Engineering and Computer Science',\n",
       "       'CS 405 - Introduction to Data Mining', 'Web Technologies',\n",
       "       'CS 407 - Machine Learning', 'Database Systems',\n",
       "       'CS 407 - Robotics', 'System Programming',\n",
       "       'Mathematics and informatics', 'Engineering Computer Graphics',\n",
       "       'Calculus I', 'Probability and Statistics',\n",
       "       'Programming Languages I', 'Calculus II', 'Physics II',\n",
       "       'Object Oriented Programming (OOP)', 'Discrete Mathematics',\n",
       "       'Linear Algebra', 'Differential Equations',\n",
       "       'Programming Language II', 'Data Structures',\n",
       "       'Artificial Intelligence', 'Software Engineering I',\n",
       "       'Mobile App Development', 'Information Security', 'Physics I',\n",
       "       'Digital Electronics', 'Introduction to Data Mining', 'Robotics',\n",
       "       'Web Programming', 'Software Engineering II',\n",
       "       'Introduction to Cloud Computing', 'Mathematics II',\n",
       "       'Introduction to Probability and Statistics',\n",
       "       'Mathematical Logic and Algorithm Theory',\n",
       "       'Discrete Mathematics II', 'Object Oriented Programming (Python)',\n",
       "       'Introduction to Programming (Python)', 'Algebra and Geometry II',\n",
       "       'Discrete Mathematics I', 'Physics', 'Algebra and Geometry I',\n",
       "       'Computer Sciences II', 'Mathematics I',\n",
       "       'Radiology (medical equipment and diagnostics)',\n",
       "       'Financial Mathematics II',\n",
       "       'Biostatistics and statistical programming', 'Computer Sciences I',\n",
       "       'Engineering Computer Graphics - 2', 'Statistics I',\n",
       "       'Statistics II', 'Software Architecture & Design patterns',\n",
       "       'Machine Learning', 'Art & Design', 'Front-end Development',\n",
       "       'Introduction to Data Science', 'Image Processing',\n",
       "       'Data Analysis and Visualization',\n",
       "       'Science and art of engineering creativity',\n",
       "       'Programming Languages II', 'VR design', 'Graphic Design',\n",
       "       'Designing in C# '], dtype=object)"
      ]
     },
     "execution_count": 270,
     "metadata": {},
     "output_type": "execute_result"
    }
   ],
   "source": [
    "df.TITLE_EN.unique()"
   ]
  },
  {
   "cell_type": "code",
   "execution_count": 253,
   "id": "7ca840b0",
   "metadata": {},
   "outputs": [
    {
     "data": {
      "text/html": [
       "<div>\n",
       "<style scoped>\n",
       "    .dataframe tbody tr th:only-of-type {\n",
       "        vertical-align: middle;\n",
       "    }\n",
       "\n",
       "    .dataframe tbody tr th {\n",
       "        vertical-align: top;\n",
       "    }\n",
       "\n",
       "    .dataframe thead th {\n",
       "        text-align: right;\n",
       "    }\n",
       "</style>\n",
       "<table border=\"1\" class=\"dataframe\">\n",
       "  <thead>\n",
       "    <tr style=\"text-align: right;\">\n",
       "      <th></th>\n",
       "      <th>TITLE_EN</th>\n",
       "      <th>STUD_ID</th>\n",
       "      <th>DERS_KOD</th>\n",
       "      <th>YEAR</th>\n",
       "      <th>TERM</th>\n",
       "      <th>SECTION</th>\n",
       "      <th>SON</th>\n",
       "      <th>GRADING_TYPE</th>\n",
       "      <th>QIYMET_YUZ</th>\n",
       "      <th>QIYMET_HERF</th>\n",
       "      <th>KECDI</th>\n",
       "      <th>PROG_CODE</th>\n",
       "      <th>PROG_YEAR</th>\n",
       "      <th>REF_TYPE</th>\n",
       "      <th>TRANSFER_TYPE</th>\n",
       "    </tr>\n",
       "  </thead>\n",
       "  <tbody>\n",
       "    <tr>\n",
       "      <th>24173</th>\n",
       "      <td>Engineering Computer Graphics - 2</td>\n",
       "      <td>180104004</td>\n",
       "      <td>COM 120</td>\n",
       "      <td>2021</td>\n",
       "      <td>2</td>\n",
       "      <td>1.0</td>\n",
       "      <td>1</td>\n",
       "      <td>N</td>\n",
       "      <td>50.0</td>\n",
       "      <td>D</td>\n",
       "      <td>1.0</td>\n",
       "      <td>10104</td>\n",
       "      <td>2018</td>\n",
       "      <td>Y</td>\n",
       "      <td>NaN</td>\n",
       "    </tr>\n",
       "    <tr>\n",
       "      <th>24166</th>\n",
       "      <td>Engineering Computer Graphics - 2</td>\n",
       "      <td>210104092</td>\n",
       "      <td>COM 120</td>\n",
       "      <td>2021</td>\n",
       "      <td>2</td>\n",
       "      <td>1.0</td>\n",
       "      <td>1</td>\n",
       "      <td>N</td>\n",
       "      <td>99.0</td>\n",
       "      <td>A+</td>\n",
       "      <td>1.0</td>\n",
       "      <td>10104</td>\n",
       "      <td>2021</td>\n",
       "      <td>C</td>\n",
       "      <td>NaN</td>\n",
       "    </tr>\n",
       "    <tr>\n",
       "      <th>24164</th>\n",
       "      <td>Engineering Computer Graphics - 2</td>\n",
       "      <td>210104101</td>\n",
       "      <td>COM 120</td>\n",
       "      <td>2021</td>\n",
       "      <td>2</td>\n",
       "      <td>1.0</td>\n",
       "      <td>1</td>\n",
       "      <td>N</td>\n",
       "      <td>0.0</td>\n",
       "      <td>F</td>\n",
       "      <td>0.0</td>\n",
       "      <td>10104</td>\n",
       "      <td>2021</td>\n",
       "      <td>C</td>\n",
       "      <td>NaN</td>\n",
       "    </tr>\n",
       "    <tr>\n",
       "      <th>24074</th>\n",
       "      <td>Engineering Computer Graphics - 2</td>\n",
       "      <td>210104091</td>\n",
       "      <td>COM 120</td>\n",
       "      <td>2021</td>\n",
       "      <td>2</td>\n",
       "      <td>1.0</td>\n",
       "      <td>1</td>\n",
       "      <td>N</td>\n",
       "      <td>96.0</td>\n",
       "      <td>A+</td>\n",
       "      <td>1.0</td>\n",
       "      <td>10104</td>\n",
       "      <td>2021</td>\n",
       "      <td>C</td>\n",
       "      <td>NaN</td>\n",
       "    </tr>\n",
       "    <tr>\n",
       "      <th>24100</th>\n",
       "      <td>Engineering Computer Graphics - 2</td>\n",
       "      <td>210104042</td>\n",
       "      <td>COM 120</td>\n",
       "      <td>2021</td>\n",
       "      <td>2</td>\n",
       "      <td>1.0</td>\n",
       "      <td>1</td>\n",
       "      <td>N</td>\n",
       "      <td>98.0</td>\n",
       "      <td>A+</td>\n",
       "      <td>1.0</td>\n",
       "      <td>10104</td>\n",
       "      <td>2021</td>\n",
       "      <td>C</td>\n",
       "      <td>NaN</td>\n",
       "    </tr>\n",
       "    <tr>\n",
       "      <th>...</th>\n",
       "      <td>...</td>\n",
       "      <td>...</td>\n",
       "      <td>...</td>\n",
       "      <td>...</td>\n",
       "      <td>...</td>\n",
       "      <td>...</td>\n",
       "      <td>...</td>\n",
       "      <td>...</td>\n",
       "      <td>...</td>\n",
       "      <td>...</td>\n",
       "      <td>...</td>\n",
       "      <td>...</td>\n",
       "      <td>...</td>\n",
       "      <td>...</td>\n",
       "      <td>...</td>\n",
       "    </tr>\n",
       "    <tr>\n",
       "      <th>26423</th>\n",
       "      <td>Engineering Computer Graphics - 2</td>\n",
       "      <td>190104023</td>\n",
       "      <td>COM 120</td>\n",
       "      <td>2022</td>\n",
       "      <td>2</td>\n",
       "      <td>1.0</td>\n",
       "      <td>1</td>\n",
       "      <td>N</td>\n",
       "      <td>0.0</td>\n",
       "      <td>IP</td>\n",
       "      <td>NaN</td>\n",
       "      <td>10104</td>\n",
       "      <td>2019</td>\n",
       "      <td>C</td>\n",
       "      <td>NaN</td>\n",
       "    </tr>\n",
       "    <tr>\n",
       "      <th>26424</th>\n",
       "      <td>Engineering Computer Graphics - 2</td>\n",
       "      <td>190104053</td>\n",
       "      <td>COM 120</td>\n",
       "      <td>2022</td>\n",
       "      <td>2</td>\n",
       "      <td>1.0</td>\n",
       "      <td>1</td>\n",
       "      <td>N</td>\n",
       "      <td>0.0</td>\n",
       "      <td>IP</td>\n",
       "      <td>NaN</td>\n",
       "      <td>10104</td>\n",
       "      <td>2019</td>\n",
       "      <td>C</td>\n",
       "      <td>NaN</td>\n",
       "    </tr>\n",
       "    <tr>\n",
       "      <th>26421</th>\n",
       "      <td>Engineering Computer Graphics - 2</td>\n",
       "      <td>190104022</td>\n",
       "      <td>COM 120</td>\n",
       "      <td>2022</td>\n",
       "      <td>2</td>\n",
       "      <td>1.0</td>\n",
       "      <td>1</td>\n",
       "      <td>N</td>\n",
       "      <td>0.0</td>\n",
       "      <td>IP</td>\n",
       "      <td>NaN</td>\n",
       "      <td>10104</td>\n",
       "      <td>2019</td>\n",
       "      <td>C</td>\n",
       "      <td>NaN</td>\n",
       "    </tr>\n",
       "    <tr>\n",
       "      <th>26422</th>\n",
       "      <td>Engineering Computer Graphics - 2</td>\n",
       "      <td>180401006</td>\n",
       "      <td>COM 120</td>\n",
       "      <td>2022</td>\n",
       "      <td>2</td>\n",
       "      <td>1.0</td>\n",
       "      <td>1</td>\n",
       "      <td>N</td>\n",
       "      <td>0.0</td>\n",
       "      <td>IP</td>\n",
       "      <td>NaN</td>\n",
       "      <td>10104</td>\n",
       "      <td>2021</td>\n",
       "      <td>C</td>\n",
       "      <td>NaN</td>\n",
       "    </tr>\n",
       "    <tr>\n",
       "      <th>26425</th>\n",
       "      <td>Engineering Computer Graphics - 2</td>\n",
       "      <td>190104111</td>\n",
       "      <td>COM 120</td>\n",
       "      <td>2022</td>\n",
       "      <td>2</td>\n",
       "      <td>1.0</td>\n",
       "      <td>1</td>\n",
       "      <td>N</td>\n",
       "      <td>0.0</td>\n",
       "      <td>IP</td>\n",
       "      <td>NaN</td>\n",
       "      <td>10104</td>\n",
       "      <td>2019</td>\n",
       "      <td>C</td>\n",
       "      <td>NaN</td>\n",
       "    </tr>\n",
       "  </tbody>\n",
       "</table>\n",
       "<p>113 rows × 15 columns</p>\n",
       "</div>"
      ],
      "text/plain": [
       "                                TITLE_EN    STUD_ID DERS_KOD  YEAR  TERM  \\\n",
       "24173  Engineering Computer Graphics - 2  180104004  COM 120  2021     2   \n",
       "24166  Engineering Computer Graphics - 2  210104092  COM 120  2021     2   \n",
       "24164  Engineering Computer Graphics - 2  210104101  COM 120  2021     2   \n",
       "24074  Engineering Computer Graphics - 2  210104091  COM 120  2021     2   \n",
       "24100  Engineering Computer Graphics - 2  210104042  COM 120  2021     2   \n",
       "...                                  ...        ...      ...   ...   ...   \n",
       "26423  Engineering Computer Graphics - 2  190104023  COM 120  2022     2   \n",
       "26424  Engineering Computer Graphics - 2  190104053  COM 120  2022     2   \n",
       "26421  Engineering Computer Graphics - 2  190104022  COM 120  2022     2   \n",
       "26422  Engineering Computer Graphics - 2  180401006  COM 120  2022     2   \n",
       "26425  Engineering Computer Graphics - 2  190104111  COM 120  2022     2   \n",
       "\n",
       "       SECTION  SON GRADING_TYPE  QIYMET_YUZ QIYMET_HERF  KECDI  PROG_CODE  \\\n",
       "24173      1.0    1            N        50.0           D    1.0      10104   \n",
       "24166      1.0    1            N        99.0          A+    1.0      10104   \n",
       "24164      1.0    1            N         0.0           F    0.0      10104   \n",
       "24074      1.0    1            N        96.0          A+    1.0      10104   \n",
       "24100      1.0    1            N        98.0          A+    1.0      10104   \n",
       "...        ...  ...          ...         ...         ...    ...        ...   \n",
       "26423      1.0    1            N         0.0          IP    NaN      10104   \n",
       "26424      1.0    1            N         0.0          IP    NaN      10104   \n",
       "26421      1.0    1            N         0.0          IP    NaN      10104   \n",
       "26422      1.0    1            N         0.0          IP    NaN      10104   \n",
       "26425      1.0    1            N         0.0          IP    NaN      10104   \n",
       "\n",
       "       PROG_YEAR REF_TYPE TRANSFER_TYPE  \n",
       "24173       2018        Y           NaN  \n",
       "24166       2021        C           NaN  \n",
       "24164       2021        C           NaN  \n",
       "24074       2021        C           NaN  \n",
       "24100       2021        C           NaN  \n",
       "...          ...      ...           ...  \n",
       "26423       2019        C           NaN  \n",
       "26424       2019        C           NaN  \n",
       "26421       2019        C           NaN  \n",
       "26422       2021        C           NaN  \n",
       "26425       2019        C           NaN  \n",
       "\n",
       "[113 rows x 15 columns]"
      ]
     },
     "execution_count": 253,
     "metadata": {},
     "output_type": "execute_result"
    }
   ],
   "source": [
    "\n",
    "df[df.TITLE_EN == 'Engineering Computer Graphics - 2']\n",
    "# df[df.STUD_ID == 120104036]\n",
    "\n",
    "#Subjects with high perfomance:\n",
    "# CS 402 - Mobile App Development (from 2015 to 2018)\n",
    "# CS 407 - Microprocessors and Microcomputing (from 2014 to 2016)\n",
    "# CS 311 - Computer Networks and Telecommunication (from 2014 to 2018)\n",
    "# CS 405 - Software Architecture & Design patterns (only for 2016)\n",
    "# CS 308 - Computer Organization & Architecture (from 2014 to 2014)\n",
    "# CS 405 - Computer Graphics (2013 and 2016)\n",
    "# Machine Learning (from 2021)\n",
    "# CS 209 - Engineering Computer Graphics (from 2014 to 2018)\n",
    "# CS 306 - Software Engineering II (from 2015 to 2018)\n",
    "# CS 409 - Network Technologies (2015, 2016)\n",
    "# Engineering Computer Graphics - 2 (2021, 2022)\n",
    "# Designing in C# (2022)\n",
    "# CS 305 - Software Engineering I (from 2014 to 2018)\n",
    "# Information Security (from 2019 to 2022)\n"
   ]
  },
  {
   "cell_type": "markdown",
   "id": "6b7a7b0b",
   "metadata": {},
   "source": [
    "#### Analyzing CS 402 - Mobile App Development subject:"
   ]
  },
  {
   "cell_type": "code",
   "execution_count": 299,
   "id": "5169a8bc",
   "metadata": {},
   "outputs": [
    {
     "data": {
      "text/html": [
       "<div>\n",
       "<style scoped>\n",
       "    .dataframe tbody tr th:only-of-type {\n",
       "        vertical-align: middle;\n",
       "    }\n",
       "\n",
       "    .dataframe tbody tr th {\n",
       "        vertical-align: top;\n",
       "    }\n",
       "\n",
       "    .dataframe thead th {\n",
       "        text-align: right;\n",
       "    }\n",
       "</style>\n",
       "<table border=\"1\" class=\"dataframe\">\n",
       "  <thead>\n",
       "    <tr style=\"text-align: right;\">\n",
       "      <th></th>\n",
       "      <th>TITLE_EN</th>\n",
       "      <th>STUD_ID</th>\n",
       "      <th>DERS_KOD</th>\n",
       "      <th>YEAR</th>\n",
       "      <th>TERM</th>\n",
       "      <th>SECTION</th>\n",
       "      <th>SON</th>\n",
       "      <th>GRADING_TYPE</th>\n",
       "      <th>QIYMET_YUZ</th>\n",
       "      <th>QIYMET_HERF</th>\n",
       "      <th>KECDI</th>\n",
       "      <th>PROG_CODE</th>\n",
       "      <th>PROG_YEAR</th>\n",
       "      <th>REF_TYPE</th>\n",
       "      <th>TRANSFER_TYPE</th>\n",
       "    </tr>\n",
       "  </thead>\n",
       "  <tbody>\n",
       "    <tr>\n",
       "      <th>28851</th>\n",
       "      <td>CS 402 - Mobile App Development</td>\n",
       "      <td>130104008</td>\n",
       "      <td>4806</td>\n",
       "      <td>2015</td>\n",
       "      <td>2</td>\n",
       "      <td>NaN</td>\n",
       "      <td>1</td>\n",
       "      <td>N</td>\n",
       "      <td>100.0</td>\n",
       "      <td>A+</td>\n",
       "      <td>1.0</td>\n",
       "      <td>10104</td>\n",
       "      <td>2016</td>\n",
       "      <td>Y</td>\n",
       "      <td>LOCAL_TRANSFER</td>\n",
       "    </tr>\n",
       "    <tr>\n",
       "      <th>28852</th>\n",
       "      <td>CS 402 - Mobile App Development</td>\n",
       "      <td>140104052</td>\n",
       "      <td>4806</td>\n",
       "      <td>2015</td>\n",
       "      <td>2</td>\n",
       "      <td>NaN</td>\n",
       "      <td>1</td>\n",
       "      <td>N</td>\n",
       "      <td>51.0</td>\n",
       "      <td>D</td>\n",
       "      <td>1.0</td>\n",
       "      <td>10104</td>\n",
       "      <td>2016</td>\n",
       "      <td>Y</td>\n",
       "      <td>LOCAL_TRANSFER</td>\n",
       "    </tr>\n",
       "    <tr>\n",
       "      <th>28841</th>\n",
       "      <td>CS 402 - Mobile App Development</td>\n",
       "      <td>120104029</td>\n",
       "      <td>4806</td>\n",
       "      <td>2015</td>\n",
       "      <td>2</td>\n",
       "      <td>NaN</td>\n",
       "      <td>1</td>\n",
       "      <td>N</td>\n",
       "      <td>74.0</td>\n",
       "      <td>B-</td>\n",
       "      <td>1.0</td>\n",
       "      <td>10104</td>\n",
       "      <td>2016</td>\n",
       "      <td>Y</td>\n",
       "      <td>LOCAL_TRANSFER</td>\n",
       "    </tr>\n",
       "    <tr>\n",
       "      <th>28840</th>\n",
       "      <td>CS 402 - Mobile App Development</td>\n",
       "      <td>120104027</td>\n",
       "      <td>4806</td>\n",
       "      <td>2015</td>\n",
       "      <td>2</td>\n",
       "      <td>NaN</td>\n",
       "      <td>1</td>\n",
       "      <td>N</td>\n",
       "      <td>60.0</td>\n",
       "      <td>C</td>\n",
       "      <td>1.0</td>\n",
       "      <td>10104</td>\n",
       "      <td>2016</td>\n",
       "      <td>Y</td>\n",
       "      <td>LOCAL_TRANSFER</td>\n",
       "    </tr>\n",
       "    <tr>\n",
       "      <th>28850</th>\n",
       "      <td>CS 402 - Mobile App Development</td>\n",
       "      <td>130104016</td>\n",
       "      <td>4806</td>\n",
       "      <td>2015</td>\n",
       "      <td>2</td>\n",
       "      <td>NaN</td>\n",
       "      <td>1</td>\n",
       "      <td>N</td>\n",
       "      <td>100.0</td>\n",
       "      <td>A+</td>\n",
       "      <td>1.0</td>\n",
       "      <td>10104</td>\n",
       "      <td>2016</td>\n",
       "      <td>Y</td>\n",
       "      <td>LOCAL_TRANSFER</td>\n",
       "    </tr>\n",
       "  </tbody>\n",
       "</table>\n",
       "</div>"
      ],
      "text/plain": [
       "                              TITLE_EN    STUD_ID DERS_KOD  YEAR  TERM  \\\n",
       "28851  CS 402 - Mobile App Development  130104008     4806  2015     2   \n",
       "28852  CS 402 - Mobile App Development  140104052     4806  2015     2   \n",
       "28841  CS 402 - Mobile App Development  120104029     4806  2015     2   \n",
       "28840  CS 402 - Mobile App Development  120104027     4806  2015     2   \n",
       "28850  CS 402 - Mobile App Development  130104016     4806  2015     2   \n",
       "\n",
       "       SECTION  SON GRADING_TYPE  QIYMET_YUZ QIYMET_HERF  KECDI  PROG_CODE  \\\n",
       "28851      NaN    1            N       100.0          A+    1.0      10104   \n",
       "28852      NaN    1            N        51.0           D    1.0      10104   \n",
       "28841      NaN    1            N        74.0          B-    1.0      10104   \n",
       "28840      NaN    1            N        60.0           C    1.0      10104   \n",
       "28850      NaN    1            N       100.0          A+    1.0      10104   \n",
       "\n",
       "       PROG_YEAR REF_TYPE   TRANSFER_TYPE  \n",
       "28851       2016        Y  LOCAL_TRANSFER  \n",
       "28852       2016        Y  LOCAL_TRANSFER  \n",
       "28841       2016        Y  LOCAL_TRANSFER  \n",
       "28840       2016        Y  LOCAL_TRANSFER  \n",
       "28850       2016        Y  LOCAL_TRANSFER  "
      ]
     },
     "execution_count": 299,
     "metadata": {},
     "output_type": "execute_result"
    }
   ],
   "source": [
    "mobile_dev = df[df.TITLE_EN == 'CS 402 - Mobile App Development']\n",
    "mobile_dev.head()"
   ]
  },
  {
   "cell_type": "code",
   "execution_count": 284,
   "id": "3a42537a",
   "metadata": {},
   "outputs": [
    {
     "data": {
      "image/png": "[encoded data removed]",
      "text/plain": [
       "<Figure size 432x288 with 1 Axes>"
      ]
     },
     "metadata": {
      "needs_background": "light"
     },
     "output_type": "display_data"
    },
    {
     "data": {
      "text/plain": [
       "<Figure size 720x576 with 0 Axes>"
      ]
     },
     "metadata": {},
     "output_type": "display_data"
    }
   ],
   "source": [
    "ax = sns.barplot(data = df[df.TITLE_EN == 'CS 402 - Mobile App Development'], \n",
    "             x = 'YEAR', y = 'QIYMET_YUZ')\n",
    "plt.title('Mobile App Development', fontsize = 14)\n",
    "plt.xlabel('Year', fontsize = 12)\n",
    "plt.ylabel('Grade', fontsize = 12)\n",
    "plt.figure(figsize=(10, 8))\n",
    "ax.grid(True)"
   ]
  },
  {
   "cell_type": "markdown",
   "id": "937067ae",
   "metadata": {},
   "source": [
    "## Overall students perfomance by year"
   ]
  },
  {
   "cell_type": "code",
   "execution_count": 282,
   "id": "428fe6ee",
   "metadata": {
    "scrolled": true
   },
   "outputs": [
    {
     "data": {
      "image/png": "[encoded data removed]",
      "text/plain": [
       "<Figure size 432x288 with 1 Axes>"
      ]
     },
     "metadata": {
      "needs_background": "light"
     },
     "output_type": "display_data"
    },
    {
     "data": {
      "text/plain": [
       "<Figure size 432x288 with 0 Axes>"
      ]
     },
     "metadata": {},
     "output_type": "display_data"
    }
   ],
   "source": [
    "df = df.sort_values('YEAR', ascending = True)\n",
    "\n",
    "ax = sns.lineplot(data = df, x = 'YEAR', y = 'QIYMET_YUZ')\n",
    "plt.title('Overall students perfomance by year', fontsize = 16)\n",
    "plt.xlabel('Year', fontsize = 14)\n",
    "plt.ylabel('Average Points', fontsize = 14)\n",
    "\n",
    "plt.figure(figsize=(6, 4))\n",
    "ax.grid(True)"
   ]
  },
  {
   "cell_type": "code",
   "execution_count": 281,
   "id": "49c909f2",
   "metadata": {},
   "outputs": [
    {
     "data": {
      "text/plain": [
       "array(['COM 205 - Mathematical Logic and Algorithm Theory',\n",
       "       'MAT 254 - Discrete Structures', 'PHS 201 - Physics I',\n",
       "       'MAT 253 - Numerical Analysis', 'MAT 231 - Calculus I',\n",
       "       'MAT 203 - Linear Algebra I', 'PHS 202 - Physics II',\n",
       "       'MAT 232 - Calculus II',\n",
       "       'ELT 331 - Electric Circuits and Electronics',\n",
       "       'MAT 234 - Probability and Statistics II',\n",
       "       'COM 302 - Programming Languages II',\n",
       "       'MAT 233 - Probability and Statistics I',\n",
       "       'COM 202 - Algorithms and Programming II',\n",
       "       'COM 301 - Programming Languages I', 'COM 303 - Computer Graphics',\n",
       "       'CS 103 - Calculus I', 'COM 117 - Algorithms and Programming I',\n",
       "       'COM 118 - Algorithms and Programming II', 'CS 105 - Physics I',\n",
       "       'CS-PHS - Physical Culture I',\n",
       "       'CS 108 - Math. Logic and Algorithm Theory',\n",
       "       'COM 301 - Engineering Computer Graphics',\n",
       "       'COM 407 - Computer Networks and Telecommunications I',\n",
       "       'COM 411 - Computer Organization I', 'CS 106 - Physics II',\n",
       "       'COM 401 - Robotics', 'COM 304 - Data Structures II',\n",
       "       'COM 407 - Software Engineering II', 'CS 104 - Calculus II',\n",
       "       'COM 316 - Functional and Log. Programming',\n",
       "       'COM 310 - Software Engineering I',\n",
       "       'COM 312 - Assembler Programming', 'COM 306 - Microprocessors',\n",
       "       'COM 314 - Computer Architectures', 'COM 303 - Data Structures I',\n",
       "       'CS 208 - Linear Algebra', 'COM 225 - Discrete Structure',\n",
       "       'CS 405 - Computer Graphics', 'CS 101 - Programming Languages I',\n",
       "       'MAT 304 - Computation Theory',\n",
       "       'COM 416 - Artificial Intelligence',\n",
       "       'CS 102 - Programming Language II',\n",
       "       'CS 312 - Differential Equations',\n",
       "       'COM 410 - Computer Networks and Telecommunications II',\n",
       "       'COM 227 - Data Structures', 'COM 417 - Web-Technology',\n",
       "       'INT 105 - Computer Technology',\n",
       "       'COM 513 - Network Technologies II', 'COM 405 - OOP',\n",
       "       'COM 417 - Human Computer Interaction (VOP)',\n",
       "       'INT 104 - Information Technology',\n",
       "       'COM 505 - Information Security (Cryptology)',\n",
       "       'CS 206 - Digital Electronics',\n",
       "       'COM 228 - Programming Language II',\n",
       "       'COM 501 - Project Management', 'COM 404 - Network Technologies I',\n",
       "       'COM 402 - Control Theory (Automation Theory )',\n",
       "       'COM 409 - Database Management',\n",
       "       'MAT 305 - Differential Equations', 'COM 409 - Operating Systems',\n",
       "       'COM 514 - Network Technologies III', 'INT 107 - Mathematics',\n",
       "       'CS 205 - Database Systems',\n",
       "       'COM 418 - Theory of Programming Languages&Trans.Meth.',\n",
       "       'CS 209 - Engineering Computer Graphics',\n",
       "       'CS 202 - Data Structures', 'CS-310 - Art',\n",
       "       'CS 403 - Human Computer Interaction',\n",
       "       'CS 309 - Probability and Statistics', 'CS 203 - Web Technologies',\n",
       "       'CS 311 - Computer Networks and Telecommunication',\n",
       "       'CS 201 - Object Oriented Programming (OOP)',\n",
       "       'CS 401 - Artificial Intelligence',\n",
       "       'CS 308 - Computer Organization & Architecture',\n",
       "       'CS 203 - Introduction to Web Technologies',\n",
       "       'CS 407 - Microprocessors and Microcomputing',\n",
       "       'CS 204 - Web Programming', 'CS 207 - Discrete Mathematics',\n",
       "       'CS 207 - Scientific Programming',\n",
       "       'CS 305 - Software Engineering I', 'CS 205 - Descrete Mathematics',\n",
       "       'CS 404 - Robotics',\n",
       "       'CS 100 - Introduction to Engineering and Computer Science',\n",
       "       'CS 409 - Network Technologies', 'CS 402 - Mobile App Development',\n",
       "       'CS 301 - Design & Analysis of Algorithms',\n",
       "       'COM 454 - Object Oriented Programming II',\n",
       "       'CS 306 - Software Engineering II',\n",
       "       'CS 401 - Information Security', 'MAT 101 - Calculus I',\n",
       "       'CS 420 - Industrial Intership', 'COM 101 - Computer I',\n",
       "       'CS 402 - Cryptography', 'CS 302 - Artificial Intelligence',\n",
       "       'COM 431 - Object Oriented Programming I',\n",
       "       'CS 304 - Operating Systems',\n",
       "       'ELT 105 - Computer Programming Language-I',\n",
       "       'ELT 216 - Physical Basics of Electronics (Solid Electronics)',\n",
       "       'COM 152 - Calculus and Computer Practice I',\n",
       "       'CS 108 - Engineering Computer Graphics',\n",
       "       'CS 310 - Probability and Statistics - 2',\n",
       "       'CS 312 - (elective) Number Theory',\n",
       "       'ELT 108 - Engineering- Computer Graphics',\n",
       "       'ELT 219 - Elecrotechnics I (Electric Circuits)',\n",
       "       'ELT 212 - Linear Algebra', 'CS 406 - Robotics',\n",
       "       'CS 405 - Software Architecture & Design patterns',\n",
       "       'ELT 313 - Data Conversion Tech. (Signals&Systems)',\n",
       "       'Operating Systems',\n",
       "       'ELT 303 - Electromechanical Energy Conversion I',\n",
       "       '409 COM - Programming Languages',\n",
       "       'COM 310 - Computer Graphics and CAD',\n",
       "       'ELT 213 - Programming Language', '302 COM - Physics',\n",
       "       'ELT 210 - Differential Equations',\n",
       "       'Computer Organization & Architecture',\n",
       "       'CS 312 - (elective) Differential Equations',\n",
       "       'Computer Networks and Telecommunication',\n",
       "       'ELT 106 - Computer Programming Language-II',\n",
       "       'ELT 306 - Microelectronics (Digital Electronics) I',\n",
       "       'ELT 304 - Electronic Circuits-I',\n",
       "       'ELT 307 - Database Management Systems',\n",
       "       'Mathematics and informatics',\n",
       "       'CS 405 - Introduction to Data Mining',\n",
       "       'CS 208-1 - Linear Algebra', 'CS 407 - Robotics',\n",
       "       'Web Technologies', 'Database Systems',\n",
       "       'Introduction to Engineering and Computer Science',\n",
       "       'CS 407 - Machine Learning', 'Design & Analysis of Algorithms',\n",
       "       'System Programming', 'Digital Electronics',\n",
       "       'Programming Language II', 'Information Security',\n",
       "       'Introduction to Data Mining', 'Engineering Computer Graphics',\n",
       "       'Physics I', 'Artificial Intelligence', 'Physics II', 'Robotics',\n",
       "       'Software Engineering I', 'Mobile App Development',\n",
       "       'Data Structures', 'Software Engineering II', 'Web Programming',\n",
       "       'Introduction to Cloud Computing', 'Calculus II',\n",
       "       'Programming Languages I', 'Object Oriented Programming (OOP)',\n",
       "       'Calculus I', 'Linear Algebra', 'Probability and Statistics',\n",
       "       'Discrete Mathematics', 'Differential Equations',\n",
       "       'Computer Sciences I', 'Financial Mathematics II',\n",
       "       'Biostatistics and statistical programming',\n",
       "       'Radiology (medical equipment and diagnostics)', 'Mathematics II',\n",
       "       'Mathematics I', 'Computer Sciences II',\n",
       "       'Mathematical Logic and Algorithm Theory',\n",
       "       'Discrete Mathematics I', 'Algebra and Geometry I',\n",
       "       'Introduction to Probability and Statistics', 'Physics',\n",
       "       'Discrete Mathematics II', 'Algebra and Geometry II',\n",
       "       'Object Oriented Programming (Python)',\n",
       "       'Introduction to Programming (Python)', 'Machine Learning',\n",
       "       'Art & Design', 'Front-end Development',\n",
       "       'Engineering Computer Graphics - 2', 'Statistics I',\n",
       "       'Software Architecture & Design patterns', 'Statistics II',\n",
       "       'Data Analysis and Visualization', 'Graphic Design',\n",
       "       'Designing in C# ', 'Introduction to Data Science',\n",
       "       'Image Processing', 'Science and art of engineering creativity',\n",
       "       'VR design', 'Programming Languages II'], dtype=object)"
      ]
     },
     "execution_count": 281,
     "metadata": {},
     "output_type": "execute_result"
    }
   ],
   "source": [
    "df.TITLE_EN.unique()"
   ]
  },
  {
   "cell_type": "code",
   "execution_count": 288,
   "id": "06c89b8b",
   "metadata": {
    "scrolled": true
   },
   "outputs": [
    {
     "data": {
      "text/plain": [
       "YEAR\n",
       "2019    52.388557\n",
       "Name: QIYMET_YUZ, dtype: float64"
      ]
     },
     "execution_count": 288,
     "metadata": {},
     "output_type": "execute_result"
    }
   ],
   "source": [
    "# Average grades of all technical subjects for 2019\n",
    "df[df['YEAR'] == 2019].groupby('YEAR')['QIYMET_YUZ'].mean() "
   ]
  },
  {
   "cell_type": "code",
   "execution_count": 54,
   "id": "b10eebb6",
   "metadata": {},
   "outputs": [
    {
     "data": {
      "text/plain": [
       "YEAR\n",
       "2015    84.615385\n",
       "2016    87.062500\n",
       "2017    92.000000\n",
       "2018    85.563636\n",
       "Name: QIYMET_YUZ, dtype: float64"
      ]
     },
     "execution_count": 54,
     "metadata": {},
     "output_type": "execute_result"
    }
   ],
   "source": [
    "mobile_dev.groupby('YEAR')['QIYMET_YUZ'].mean()"
   ]
  },
  {
   "cell_type": "markdown",
   "id": "6d15639d",
   "metadata": {},
   "source": [
    "### Visualization for  mobile app development subject"
   ]
  },
  {
   "cell_type": "code",
   "execution_count": 112,
   "id": "8de1d230",
   "metadata": {},
   "outputs": [
    {
     "data": {
      "text/plain": [
       "<AxesSubplot:xlabel='YEAR', ylabel='QIYMET_YUZ'>"
      ]
     },
     "execution_count": 112,
     "metadata": {},
     "output_type": "execute_result"
    },
    {
     "data": {
      "image/png": "[encoded data removed]",
      "text/plain": [
       "<Figure size 432x288 with 1 Axes>"
      ]
     },
     "metadata": {
      "needs_background": "light"
     },
     "output_type": "display_data"
    }
   ],
   "source": [
    "df_2018 = df[df.YEAR <= 2018]\n",
    "sns.lineplot(data = df_2018, x = 'YEAR', y = 'QIYMET_YUZ', color = 'green')"
   ]
  },
  {
   "cell_type": "code",
   "execution_count": 289,
   "id": "9368db57",
   "metadata": {},
   "outputs": [
    {
     "data": {
      "text/plain": [
       "<AxesSubplot:xlabel='YEAR', ylabel='QIYMET_YUZ'>"
      ]
     },
     "execution_count": 289,
     "metadata": {},
     "output_type": "execute_result"
    },
    {
     "data": {
      "image/png": "[encoded data removed]",
      "text/plain": [
       "<Figure size 432x288 with 1 Axes>"
      ]
     },
     "metadata": {
      "needs_background": "light"
     },
     "output_type": "display_data"
    }
   ],
   "source": [
    "# Perfomance growing after covid-19\n",
    "df_2022 = df[df.YEAR > 2018]\n",
    "sns.lineplot(data = df_2022, x = 'YEAR', y = 'QIYMET_YUZ', color = 'red')"
   ]
  },
  {
   "cell_type": "code",
   "execution_count": null,
   "id": "73c93d72",
   "metadata": {},
   "outputs": [],
   "source": []
  },
  {
   "cell_type": "code",
   "execution_count": 62,
   "id": "2a160a69",
   "metadata": {},
   "outputs": [
    {
     "name": "stdout",
     "output_type": "stream",
     "text": [
      "0.0023635496232289332\n"
     ]
    }
   ],
   "source": [
    "# mymodel = numpy.poly1d(numpy.polyfit(x, y, 3))\n",
    "# print(r2_score(y, mymodel(x)))"
   ]
  },
  {
   "cell_type": "code",
   "execution_count": 63,
   "id": "09aa17ba",
   "metadata": {},
   "outputs": [
    {
     "name": "stdout",
     "output_type": "stream",
     "text": [
      "0.9432150416451026\n"
     ]
    }
   ],
   "source": [
    "# x = [1,2,3,5,6,7,8,9,10,12,13,14,15,16,18,19,21,22]\n",
    "# y = [100,90,80,60,60,55,60,65,70,70,75,76,78,79,90,99,99,100]\n",
    "\n",
    "# mymodel = numpy.poly1d(numpy.polyfit(x, y, 3))\n",
    "# print(r2_score(y, mymodel(x)))"
   ]
  },
  {
   "cell_type": "code",
   "execution_count": null,
   "id": "4244472f",
   "metadata": {},
   "outputs": [],
   "source": []
  }
 ],
 "metadata": {
  "kernelspec": {
   "display_name": "Python 3 (ipykernel)",
   "language": "python",
   "name": "python3"
  },
  "language_info": {
   "codemirror_mode": {
    "name": "ipython",
    "version": 3
   },
   "file_extension": ".py",
   "mimetype": "text/x-python",
   "name": "python",
   "nbconvert_exporter": "python",
   "pygments_lexer": "ipython3",
   "version": "3.9.12"
  }
 },
 "nbformat": 4,
 "nbformat_minor": 5
}
